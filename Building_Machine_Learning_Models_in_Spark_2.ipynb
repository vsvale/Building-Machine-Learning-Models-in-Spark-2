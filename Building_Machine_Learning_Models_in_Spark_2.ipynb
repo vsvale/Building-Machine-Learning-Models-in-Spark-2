{
  "nbformat": 4,
  "nbformat_minor": 0,
  "metadata": {
    "colab": {
      "name": "Building Machine Learning Models in Spark 2.ipynb",
      "provenance": [],
      "collapsed_sections": [
        "DUjWeTW2RgME",
        "b_JqeHn1r_86",
        "ThuU1UPskEdf",
        "Ed53l1HLUdxo",
        "A0YGy9DqetS9"
      ],
      "toc_visible": true,
      "authorship_tag": "ABX9TyPehRdB8P0l6/+gvA1c0HF9",
      "include_colab_link": true
    },
    "kernelspec": {
      "name": "python3",
      "display_name": "Python 3"
    },
    "language_info": {
      "name": "python"
    }
  },
  "cells": [
    {
      "cell_type": "markdown",
      "metadata": {
        "id": "view-in-github",
        "colab_type": "text"
      },
      "source": [
        "<a href=\"https://colab.research.google.com/github/vsvale/Building-Machine-Learning-Models-in-Spark-2/blob/main/Building_Machine_Learning_Models_in_Spark_2.ipynb\" target=\"_parent\"><img src=\"https://colab.research.google.com/assets/colab-badge.svg\" alt=\"Open In Colab\"/></a>"
      ]
    },
    {
      "cell_type": "code",
      "metadata": {
        "id": "GOkmkRJrPBVM"
      },
      "source": [
        "%%capture\n",
        "!pip install pyspark\n",
        "import pyspark\n",
        "from pyspark.sql import SparkSession\n",
        "spark = SparkSession.builder.getOrCreate()"
      ],
      "execution_count": null,
      "outputs": []
    },
    {
      "cell_type": "code",
      "metadata": {
        "id": "0JHxuj4MQCuu"
      },
      "source": [
        "from pyspark.ml.feature import VectorAssembler,StringIndexer\n",
        "from pyspark.ml import Pipeline\n",
        "from pyspark.ml.feature import OneHotEncoder"
      ],
      "execution_count": null,
      "outputs": []
    },
    {
      "cell_type": "code",
      "metadata": {
        "colab": {
          "base_uri": "https://localhost:8080/"
        },
        "id": "f49jq7eXP2eM",
        "outputId": "320f5876-7382-4f80-b0d9-46352e99898c"
      },
      "source": [
        "! git clone 'https://github.com/vsvale/Building-Machine-Learning-Models-in-Spark-2.git'"
      ],
      "execution_count": null,
      "outputs": [
        {
          "output_type": "stream",
          "text": [
            "Cloning into 'Building-Machine-Learning-Models-in-Spark-2'...\n",
            "remote: Enumerating objects: 27, done.\u001b[K\n",
            "remote: Counting objects: 100% (27/27), done.\u001b[K\n",
            "remote: Compressing objects: 100% (25/25), done.\u001b[K\n",
            "remote: Total 27 (delta 0), reused 0 (delta 0), pack-reused 0\u001b[K\n",
            "Unpacking objects: 100% (27/27), done.\n"
          ],
          "name": "stdout"
        }
      ]
    },
    {
      "cell_type": "markdown",
      "metadata": {
        "id": "DUjWeTW2RgME"
      },
      "source": [
        "# Wine"
      ]
    },
    {
      "cell_type": "markdown",
      "metadata": {
        "id": "LHYn8VZVRv7B"
      },
      "source": [
        "These data are the results of a chemical analysis of wines grown in the same region in Italy but derived from three different cultivars. The analysis determined the quantities of 13 constituents found in each of the three types of wines. <br>\n",
        "Fonte: http://archive.ics.uci.edu/ml/datasets/Wine <br>\n",
        "Forina, M. et al, PARVUS -\n",
        "An Extendible Package for Data Exploration, Classification and Correlation.\n",
        "Institute of Pharmaceutical and Food Analysis and Technologies, Via Brigata Salerno,\n",
        "16147 Genoa, Italy."
      ]
    },
    {
      "cell_type": "code",
      "metadata": {
        "id": "rmbozwVhP-5x"
      },
      "source": [
        "wine_df = spark.read.csv('/content/Building-Machine-Learning-Models-in-Spark-2/datasets/wine.data',header=False,inferSchema=True)"
      ],
      "execution_count": null,
      "outputs": []
    },
    {
      "cell_type": "code",
      "metadata": {
        "id": "hc1dYF7uQ8KT"
      },
      "source": [
        "wine_df = wine_df\\\n",
        ".withColumnRenamed('_c1','Alcohol')\\\n",
        ".withColumnRenamed('_c2','Malic_acid')\\\n",
        ".withColumnRenamed('_c3','Ash')\\\n",
        ".withColumnRenamed('_c4','Alcalinity_of_ash')\\\n",
        ".withColumnRenamed('_c5','Magnesium')\\\n",
        ".withColumnRenamed('_c6','Total_phenols')\\\n",
        ".withColumnRenamed('_c7','Flavanoids')\\\n",
        ".withColumnRenamed('_c8','Nonflavanoid_phenols')\\\n",
        ".withColumnRenamed('_c9','Proanthocyanins')\\\n",
        ".withColumnRenamed('_c10','Color_intensity')\\\n",
        ".withColumnRenamed('_c11','Hue')\\\n",
        ".withColumnRenamed('_c12','OD280_OD315')\\\n",
        ".withColumnRenamed('_c13','Proline')\\\n",
        ".withColumnRenamed('_c0','cultivars')"
      ],
      "execution_count": null,
      "outputs": []
    },
    {
      "cell_type": "code",
      "metadata": {
        "colab": {
          "base_uri": "https://localhost:8080/"
        },
        "id": "1mq01SM-TfS8",
        "outputId": "d8bdbb1a-62aa-4905-aa34-0c9508c8178a"
      },
      "source": [
        "wine_df.printSchema()"
      ],
      "execution_count": null,
      "outputs": [
        {
          "output_type": "stream",
          "text": [
            "root\n",
            " |-- cultivars: integer (nullable = true)\n",
            " |-- Alcohol: double (nullable = true)\n",
            " |-- Malic_acid: double (nullable = true)\n",
            " |-- Ash: double (nullable = true)\n",
            " |-- Alcalinity_of_ash: double (nullable = true)\n",
            " |-- Magnesium: integer (nullable = true)\n",
            " |-- Total_phenols: double (nullable = true)\n",
            " |-- Flavanoids: double (nullable = true)\n",
            " |-- Nonflavanoid_phenols: double (nullable = true)\n",
            " |-- Proanthocyanins: double (nullable = true)\n",
            " |-- Color_intensity: double (nullable = true)\n",
            " |-- Hue: double (nullable = true)\n",
            " |-- OD280_OD315: double (nullable = true)\n",
            " |-- Proline: integer (nullable = true)\n",
            "\n"
          ],
          "name": "stdout"
        }
      ]
    },
    {
      "cell_type": "code",
      "metadata": {
        "colab": {
          "base_uri": "https://localhost:8080/"
        },
        "id": "aIDhDksmTwk7",
        "outputId": "a5b1b5bf-4d17-4218-e6cb-46934624b020"
      },
      "source": [
        "wine_df.show()"
      ],
      "execution_count": null,
      "outputs": [
        {
          "output_type": "stream",
          "text": [
            "+---------+-------+----------+----+-----------------+---------+-------------+----------+--------------------+---------------+---------------+----+-----------+-------+\n",
            "|cultivars|Alcohol|Malic_acid| Ash|Alcalinity_of_ash|Magnesium|Total_phenols|Flavanoids|Nonflavanoid_phenols|Proanthocyanins|Color_intensity| Hue|OD280_OD315|Proline|\n",
            "+---------+-------+----------+----+-----------------+---------+-------------+----------+--------------------+---------------+---------------+----+-----------+-------+\n",
            "|        1|  14.23|      1.71|2.43|             15.6|      127|          2.8|      3.06|                0.28|           2.29|           5.64|1.04|       3.92|   1065|\n",
            "|        1|   13.2|      1.78|2.14|             11.2|      100|         2.65|      2.76|                0.26|           1.28|           4.38|1.05|        3.4|   1050|\n",
            "|        1|  13.16|      2.36|2.67|             18.6|      101|          2.8|      3.24|                 0.3|           2.81|           5.68|1.03|       3.17|   1185|\n",
            "|        1|  14.37|      1.95| 2.5|             16.8|      113|         3.85|      3.49|                0.24|           2.18|            7.8|0.86|       3.45|   1480|\n",
            "|        1|  13.24|      2.59|2.87|             21.0|      118|          2.8|      2.69|                0.39|           1.82|           4.32|1.04|       2.93|    735|\n",
            "|        1|   14.2|      1.76|2.45|             15.2|      112|         3.27|      3.39|                0.34|           1.97|           6.75|1.05|       2.85|   1450|\n",
            "|        1|  14.39|      1.87|2.45|             14.6|       96|          2.5|      2.52|                 0.3|           1.98|           5.25|1.02|       3.58|   1290|\n",
            "|        1|  14.06|      2.15|2.61|             17.6|      121|          2.6|      2.51|                0.31|           1.25|           5.05|1.06|       3.58|   1295|\n",
            "|        1|  14.83|      1.64|2.17|             14.0|       97|          2.8|      2.98|                0.29|           1.98|            5.2|1.08|       2.85|   1045|\n",
            "|        1|  13.86|      1.35|2.27|             16.0|       98|         2.98|      3.15|                0.22|           1.85|           7.22|1.01|       3.55|   1045|\n",
            "|        1|   14.1|      2.16| 2.3|             18.0|      105|         2.95|      3.32|                0.22|           2.38|           5.75|1.25|       3.17|   1510|\n",
            "|        1|  14.12|      1.48|2.32|             16.8|       95|          2.2|      2.43|                0.26|           1.57|            5.0|1.17|       2.82|   1280|\n",
            "|        1|  13.75|      1.73|2.41|             16.0|       89|          2.6|      2.76|                0.29|           1.81|            5.6|1.15|        2.9|   1320|\n",
            "|        1|  14.75|      1.73|2.39|             11.4|       91|          3.1|      3.69|                0.43|           2.81|            5.4|1.25|       2.73|   1150|\n",
            "|        1|  14.38|      1.87|2.38|             12.0|      102|          3.3|      3.64|                0.29|           2.96|            7.5| 1.2|        3.0|   1547|\n",
            "|        1|  13.63|      1.81| 2.7|             17.2|      112|         2.85|      2.91|                 0.3|           1.46|            7.3|1.28|       2.88|   1310|\n",
            "|        1|   14.3|      1.92|2.72|             20.0|      120|          2.8|      3.14|                0.33|           1.97|            6.2|1.07|       2.65|   1280|\n",
            "|        1|  13.83|      1.57|2.62|             20.0|      115|         2.95|       3.4|                 0.4|           1.72|            6.6|1.13|       2.57|   1130|\n",
            "|        1|  14.19|      1.59|2.48|             16.5|      108|          3.3|      3.93|                0.32|           1.86|            8.7|1.23|       2.82|   1680|\n",
            "|        1|  13.64|       3.1|2.56|             15.2|      116|          2.7|      3.03|                0.17|           1.66|            5.1|0.96|       3.36|    845|\n",
            "+---------+-------+----------+----+-----------------+---------+-------------+----------+--------------------+---------------+---------------+----+-----------+-------+\n",
            "only showing top 20 rows\n",
            "\n"
          ],
          "name": "stdout"
        }
      ]
    },
    {
      "cell_type": "code",
      "metadata": {
        "colab": {
          "base_uri": "https://localhost:8080/"
        },
        "id": "lcnTUwjcrkSU",
        "outputId": "f86f0aec-8bc6-4da4-b332-9fe16829287b"
      },
      "source": [
        "wine_df.columns[1:]"
      ],
      "execution_count": null,
      "outputs": [
        {
          "output_type": "execute_result",
          "data": {
            "text/plain": [
              "['Alcohol',\n",
              " 'Malic_acid',\n",
              " 'Ash',\n",
              " 'Alcalinity_of_ash',\n",
              " 'Magnesium',\n",
              " 'Total_phenols',\n",
              " 'Flavanoids',\n",
              " 'Nonflavanoid_phenols',\n",
              " 'Proanthocyanins',\n",
              " 'Color_intensity',\n",
              " 'Hue',\n",
              " 'OD280_OD315',\n",
              " 'Proline']"
            ]
          },
          "metadata": {
            "tags": []
          },
          "execution_count": 8
        }
      ]
    },
    {
      "cell_type": "code",
      "metadata": {
        "id": "DNnJ6EhmrSoL"
      },
      "source": [
        "featureIndexer = VectorAssembler(inputCols=wine_df.columns[1:],outputCol=\"features\")"
      ],
      "execution_count": null,
      "outputs": []
    },
    {
      "cell_type": "code",
      "metadata": {
        "id": "ZQv_CoJwvTBG"
      },
      "source": [
        "labelIndexer = StringIndexer(inputCol=\"cultivars\",outputCol=\"label\").fit(wine_df)"
      ],
      "execution_count": null,
      "outputs": []
    },
    {
      "cell_type": "code",
      "metadata": {
        "id": "VMwmM9bWtcMd"
      },
      "source": [
        "(trainingData, testData) = wine_df.randomSplit([0.8, 0.2])"
      ],
      "execution_count": null,
      "outputs": []
    },
    {
      "cell_type": "code",
      "metadata": {
        "id": "Bq041LecsEnp"
      },
      "source": [
        "from pyspark.ml.classification import DecisionTreeClassifier"
      ],
      "execution_count": null,
      "outputs": []
    },
    {
      "cell_type": "code",
      "metadata": {
        "id": "VhwXh9a-sc9U"
      },
      "source": [
        "dt = DecisionTreeClassifier(labelCol=\"label\",featuresCol=\"features\",maxBins=32,maxDepth=3,impurity='gini')"
      ],
      "execution_count": null,
      "outputs": []
    },
    {
      "cell_type": "code",
      "metadata": {
        "id": "efof3weoxtx-"
      },
      "source": [
        "pipeline = Pipeline(stages=[labelIndexer, featureIndexer, dt])"
      ],
      "execution_count": null,
      "outputs": []
    },
    {
      "cell_type": "code",
      "metadata": {
        "id": "xWpCWs0fxnwd"
      },
      "source": [
        "model = pipeline.fit(trainingData)"
      ],
      "execution_count": null,
      "outputs": []
    },
    {
      "cell_type": "code",
      "metadata": {
        "colab": {
          "base_uri": "https://localhost:8080/"
        },
        "id": "eHCsdxlXt-oP",
        "outputId": "08ab2f11-e695-41fb-b683-b68de2ceff49"
      },
      "source": [
        "predictions = model.transform(testData)\n",
        "predictions.select(\"prediction\",\"label\",\"features\").show()"
      ],
      "execution_count": null,
      "outputs": [
        {
          "output_type": "stream",
          "text": [
            "+----------+-----+--------------------+\n",
            "|prediction|label|            features|\n",
            "+----------+-----+--------------------+\n",
            "|       1.0|  1.0|[12.85,1.6,2.52,1...|\n",
            "|       1.0|  1.0|[13.2,1.78,2.14,1...|\n",
            "|       1.0|  1.0|[13.39,1.77,2.62,...|\n",
            "|       1.0|  1.0|[13.48,1.81,2.41,...|\n",
            "|       1.0|  1.0|[13.63,1.81,2.7,1...|\n",
            "|       1.0|  1.0|[13.74,1.67,2.25,...|\n",
            "|       1.0|  1.0|[13.76,1.53,2.7,1...|\n",
            "|       1.0|  1.0|[13.82,1.75,2.42,...|\n",
            "|       1.0|  1.0|[13.83,1.65,2.6,1...|\n",
            "|       1.0|  1.0|[13.94,1.73,2.27,...|\n",
            "|       1.0|  1.0|[14.1,2.02,2.4,18...|\n",
            "|       1.0|  1.0|[14.1,2.16,2.3,18...|\n",
            "|       1.0|  1.0|[14.3,1.92,2.72,2...|\n",
            "|       0.0|  0.0|[11.41,0.74,2.5,2...|\n",
            "|       0.0|  0.0|[11.62,1.99,2.28,...|\n",
            "|       0.0|  0.0|[11.76,2.68,2.92,...|\n",
            "|       0.0|  0.0|[11.87,4.31,2.39,...|\n",
            "|       0.0|  0.0|[12.0,1.51,2.42,2...|\n",
            "|       0.0|  0.0|[12.0,3.43,2.0,19...|\n",
            "|       0.0|  0.0|[12.07,2.16,2.17,...|\n",
            "+----------+-----+--------------------+\n",
            "only showing top 20 rows\n",
            "\n"
          ],
          "name": "stdout"
        }
      ]
    },
    {
      "cell_type": "code",
      "metadata": {
        "id": "vblvGH88ukp4"
      },
      "source": [
        "from pyspark.ml.evaluation import MulticlassClassificationEvaluator"
      ],
      "execution_count": null,
      "outputs": []
    },
    {
      "cell_type": "code",
      "metadata": {
        "colab": {
          "base_uri": "https://localhost:8080/"
        },
        "id": "Np4Dfe4kgTHM",
        "outputId": "9106a3a8-c3fc-445c-99a4-9afd5fcbdfef"
      },
      "source": [
        "evaluator = MulticlassClassificationEvaluator(labelCol=\"label\", predictionCol=\"prediction\", metricName=\"f1\")\n",
        "fmeasure = evaluator.evaluate(predictions)\n",
        "print(\"f1:\",fmeasure)"
      ],
      "execution_count": null,
      "outputs": [
        {
          "output_type": "stream",
          "text": [
            "f1: 0.8759898637947419\n"
          ],
          "name": "stdout"
        }
      ]
    },
    {
      "cell_type": "code",
      "metadata": {
        "id": "EvV142tX1Bea"
      },
      "source": [
        "y_pred = predictions.select([\"prediction\"]).collect()\n",
        "y_test = predictions.select([\"label\"]).collect()"
      ],
      "execution_count": null,
      "outputs": []
    },
    {
      "cell_type": "code",
      "metadata": {
        "colab": {
          "base_uri": "https://localhost:8080/"
        },
        "id": "DofoLAfe056a",
        "outputId": "9b6e0089-e3a6-4849-d1d5-4a2b3d7bd997"
      },
      "source": [
        "from mlxtend.plotting import plot_confusion_matrix\n",
        "from sklearn.metrics import confusion_matrix, classification_report\n",
        "import matplotlib.pyplot as plt\n",
        "\n",
        "print(classification_report(y_test,y_pred))\n",
        "matrix = confusion_matrix(y_test,y_pred)\n",
        "fig,ax = plot_confusion_matrix(conf_mat=matrix)\n",
        "plt.show()"
      ],
      "execution_count": null,
      "outputs": [
        {
          "output_type": "stream",
          "text": [
            "              precision    recall  f1-score   support\n",
            "\n",
            "         0.0       0.93      0.78      0.85        18\n",
            "         1.0       0.87      1.00      0.93        13\n",
            "         2.0       0.82      0.90      0.86        10\n",
            "\n",
            "    accuracy                           0.88        41\n",
            "   macro avg       0.87      0.89      0.88        41\n",
            "weighted avg       0.88      0.88      0.88        41\n",
            "\n"
          ],
          "name": "stdout"
        },
        {
          "output_type": "display_data",
          "data": {
            "image/png": "[encoded data removed]",
            "text/plain": [
              "<Figure size 432x288 with 1 Axes>"
            ]
          },
          "metadata": {
            "tags": [],
            "needs_background": "light"
          }
        }
      ]
    },
    {
      "cell_type": "markdown",
      "metadata": {
        "id": "CPnveRLODNTI"
      },
      "source": [
        "Decision Tree é comum dar Overfitting"
      ]
    },
    {
      "cell_type": "markdown",
      "metadata": {
        "id": "b_JqeHn1r_86"
      },
      "source": [
        "# Adult"
      ]
    },
    {
      "cell_type": "markdown",
      "metadata": {
        "id": "Qp6OVS1hKe5X"
      },
      "source": [
        "Prediction task is to determine whether a person makes over 50K a year. Fonte: https://archive.ics.uci.edu/ml/datasets/adult"
      ]
    },
    {
      "cell_type": "code",
      "metadata": {
        "id": "TpRay6M77F4g"
      },
      "source": [
        "adult_df = spark.read.csv('/content/Building-Machine-Learning-Models-in-Spark-2/datasets/adult.csv',header=False,inferSchema=True,ignoreLeadingWhiteSpace=True)"
      ],
      "execution_count": null,
      "outputs": []
    },
    {
      "cell_type": "code",
      "metadata": {
        "id": "cyaq-ZuBKMdL"
      },
      "source": [
        "adult_df = adult_df\\\n",
        ".withColumnRenamed('_c0','age')\\\n",
        ".withColumnRenamed('_c1','workclass')\\\n",
        ".withColumnRenamed('_c2','fnlwgt')\\\n",
        ".withColumnRenamed('_c3','education')\\\n",
        ".withColumnRenamed('_c4','education-num')\\\n",
        ".withColumnRenamed('_c5','marital-status')\\\n",
        ".withColumnRenamed('_c6','occupation')\\\n",
        ".withColumnRenamed('_c7','relationship')\\\n",
        ".withColumnRenamed('_c8','race')\\\n",
        ".withColumnRenamed('_c9','sex')\\\n",
        ".withColumnRenamed('_c10','capital-gain')\\\n",
        ".withColumnRenamed('_c11','capital-loss')\\\n",
        ".withColumnRenamed('_c12','hours-per-week')\\\n",
        ".withColumnRenamed('_c13','native-country')\\\n",
        ".withColumnRenamed('_c14','label')\\"
      ],
      "execution_count": null,
      "outputs": []
    },
    {
      "cell_type": "code",
      "metadata": {
        "colab": {
          "base_uri": "https://localhost:8080/"
        },
        "id": "isEWW-SLL6U9",
        "outputId": "b060f308-6528-41b1-f68e-97f8b479cc02"
      },
      "source": [
        "adult_df.printSchema()"
      ],
      "execution_count": null,
      "outputs": [
        {
          "output_type": "stream",
          "text": [
            "root\n",
            " |-- age: integer (nullable = true)\n",
            " |-- workclass: string (nullable = true)\n",
            " |-- fnlwgt: integer (nullable = true)\n",
            " |-- education: string (nullable = true)\n",
            " |-- education-num: integer (nullable = true)\n",
            " |-- marital-status: string (nullable = true)\n",
            " |-- occupation: string (nullable = true)\n",
            " |-- relationship: string (nullable = true)\n",
            " |-- race: string (nullable = true)\n",
            " |-- sex: string (nullable = true)\n",
            " |-- capital-gain: integer (nullable = true)\n",
            " |-- capital-loss: integer (nullable = true)\n",
            " |-- hours-per-week: integer (nullable = true)\n",
            " |-- native-country: string (nullable = true)\n",
            " |-- label: string (nullable = true)\n",
            "\n"
          ],
          "name": "stdout"
        }
      ]
    },
    {
      "cell_type": "code",
      "metadata": {
        "colab": {
          "base_uri": "https://localhost:8080/"
        },
        "id": "c_rUy-lkKzy3",
        "outputId": "be1643d7-38e7-4bb6-98d4-a58ca1694c66"
      },
      "source": [
        "adult_df.show()"
      ],
      "execution_count": null,
      "outputs": [
        {
          "output_type": "stream",
          "text": [
            "+---+----------------+------+------------+-------------+--------------------+-----------------+-------------+------------------+------+------------+------------+--------------+--------------+-----+\n",
            "|age|       workclass|fnlwgt|   education|education-num|      marital-status|       occupation| relationship|              race|   sex|capital-gain|capital-loss|hours-per-week|native-country|label|\n",
            "+---+----------------+------+------------+-------------+--------------------+-----------------+-------------+------------------+------+------------+------------+--------------+--------------+-----+\n",
            "| 39|       State-gov| 77516|   Bachelors|           13|       Never-married|     Adm-clerical|Not-in-family|             White|  Male|        2174|           0|            40| United-States|<=50K|\n",
            "| 50|Self-emp-not-inc| 83311|   Bachelors|           13|  Married-civ-spouse|  Exec-managerial|      Husband|             White|  Male|           0|           0|            13| United-States|<=50K|\n",
            "| 38|         Private|215646|     HS-grad|            9|            Divorced|Handlers-cleaners|Not-in-family|             White|  Male|           0|           0|            40| United-States|<=50K|\n",
            "| 53|         Private|234721|        11th|            7|  Married-civ-spouse|Handlers-cleaners|      Husband|             Black|  Male|           0|           0|            40| United-States|<=50K|\n",
            "| 28|         Private|338409|   Bachelors|           13|  Married-civ-spouse|   Prof-specialty|         Wife|             Black|Female|           0|           0|            40|          Cuba|<=50K|\n",
            "| 37|         Private|284582|     Masters|           14|  Married-civ-spouse|  Exec-managerial|         Wife|             White|Female|           0|           0|            40| United-States|<=50K|\n",
            "| 49|         Private|160187|         9th|            5|Married-spouse-ab...|    Other-service|Not-in-family|             Black|Female|           0|           0|            16|       Jamaica|<=50K|\n",
            "| 52|Self-emp-not-inc|209642|     HS-grad|            9|  Married-civ-spouse|  Exec-managerial|      Husband|             White|  Male|           0|           0|            45| United-States| >50K|\n",
            "| 31|         Private| 45781|     Masters|           14|       Never-married|   Prof-specialty|Not-in-family|             White|Female|       14084|           0|            50| United-States| >50K|\n",
            "| 42|         Private|159449|   Bachelors|           13|  Married-civ-spouse|  Exec-managerial|      Husband|             White|  Male|        5178|           0|            40| United-States| >50K|\n",
            "| 37|         Private|280464|Some-college|           10|  Married-civ-spouse|  Exec-managerial|      Husband|             Black|  Male|           0|           0|            80| United-States| >50K|\n",
            "| 30|       State-gov|141297|   Bachelors|           13|  Married-civ-spouse|   Prof-specialty|      Husband|Asian-Pac-Islander|  Male|           0|           0|            40|         India| >50K|\n",
            "| 23|         Private|122272|   Bachelors|           13|       Never-married|     Adm-clerical|    Own-child|             White|Female|           0|           0|            30| United-States|<=50K|\n",
            "| 32|         Private|205019|  Assoc-acdm|           12|       Never-married|            Sales|Not-in-family|             Black|  Male|           0|           0|            50| United-States|<=50K|\n",
            "| 40|         Private|121772|   Assoc-voc|           11|  Married-civ-spouse|     Craft-repair|      Husband|Asian-Pac-Islander|  Male|           0|           0|            40|             ?| >50K|\n",
            "| 34|         Private|245487|     7th-8th|            4|  Married-civ-spouse| Transport-moving|      Husband|Amer-Indian-Eskimo|  Male|           0|           0|            45|        Mexico|<=50K|\n",
            "| 25|Self-emp-not-inc|176756|     HS-grad|            9|       Never-married|  Farming-fishing|    Own-child|             White|  Male|           0|           0|            35| United-States|<=50K|\n",
            "| 32|         Private|186824|     HS-grad|            9|       Never-married|Machine-op-inspct|    Unmarried|             White|  Male|           0|           0|            40| United-States|<=50K|\n",
            "| 38|         Private| 28887|        11th|            7|  Married-civ-spouse|            Sales|      Husband|             White|  Male|           0|           0|            50| United-States|<=50K|\n",
            "| 43|Self-emp-not-inc|292175|     Masters|           14|            Divorced|  Exec-managerial|    Unmarried|             White|Female|           0|           0|            45| United-States| >50K|\n",
            "+---+----------------+------+------------+-------------+--------------------+-----------------+-------------+------------------+------+------------+------------+--------------+--------------+-----+\n",
            "only showing top 20 rows\n",
            "\n"
          ],
          "name": "stdout"
        }
      ]
    },
    {
      "cell_type": "code",
      "metadata": {
        "id": "63G0zHzIL3jh"
      },
      "source": [
        "adult_df = adult_df.drop('fnlwgt')"
      ],
      "execution_count": null,
      "outputs": []
    },
    {
      "cell_type": "code",
      "metadata": {
        "colab": {
          "base_uri": "https://localhost:8080/"
        },
        "id": "B5LmrhfJOMqt",
        "outputId": "41392f13-191f-4bd3-c8ec-3858cc62fd01"
      },
      "source": [
        "adult_df.count()"
      ],
      "execution_count": null,
      "outputs": [
        {
          "output_type": "execute_result",
          "data": {
            "text/plain": [
              "32561"
            ]
          },
          "metadata": {
            "tags": []
          },
          "execution_count": 26
        }
      ]
    },
    {
      "cell_type": "code",
      "metadata": {
        "id": "rQ4nGuXuOPtx"
      },
      "source": [
        "adult_df = adult_df.replace('?',None)"
      ],
      "execution_count": null,
      "outputs": []
    },
    {
      "cell_type": "code",
      "metadata": {
        "id": "ymkTq0u3OaBK"
      },
      "source": [
        "adult_df = adult_df.dropna(how='any')"
      ],
      "execution_count": null,
      "outputs": []
    },
    {
      "cell_type": "code",
      "metadata": {
        "colab": {
          "base_uri": "https://localhost:8080/"
        },
        "id": "jhFnHRlOPrYl",
        "outputId": "d0f20833-9fb0-45a5-9073-0a85e3f5779e"
      },
      "source": [
        "adult_df.count()"
      ],
      "execution_count": null,
      "outputs": [
        {
          "output_type": "execute_result",
          "data": {
            "text/plain": [
              "30162"
            ]
          },
          "metadata": {
            "tags": []
          },
          "execution_count": 29
        }
      ]
    },
    {
      "cell_type": "code",
      "metadata": {
        "id": "PilskPeCV43g"
      },
      "source": [
        "(trainingData,testData) = adult_df.randomSplit([0.8,0.2])"
      ],
      "execution_count": null,
      "outputs": []
    },
    {
      "cell_type": "code",
      "metadata": {
        "id": "hZUwsS89WXG8"
      },
      "source": [
        "categoricalFeatures = ['workclass','education','marital-status','occupation','relationship','race','sex','native-country']"
      ],
      "execution_count": null,
      "outputs": []
    },
    {
      "cell_type": "code",
      "metadata": {
        "id": "jV7tLiqEWFna"
      },
      "source": [
        "indexers = [StringIndexer(inputCol=column,outputCol=column + '_idx',handleInvalid='keep') for column in categoricalFeatures]"
      ],
      "execution_count": null,
      "outputs": []
    },
    {
      "cell_type": "code",
      "metadata": {
        "id": "NOowEN9fW0vm"
      },
      "source": [
        "encoders = [OneHotEncoder(inputCol=column+'_idx',outputCol=column+'_enc') for column in categoricalFeatures]"
      ],
      "execution_count": null,
      "outputs": []
    },
    {
      "cell_type": "code",
      "metadata": {
        "id": "8nWl-I5EXhHK"
      },
      "source": [
        "labelIndexer = [StringIndexer(inputCol='label',outputCol='label_idx')]"
      ],
      "execution_count": null,
      "outputs": []
    },
    {
      "cell_type": "code",
      "metadata": {
        "id": "BnrKFBjsaN8N"
      },
      "source": [
        "requiredFeatures = [colunm + '_enc' for colunm in categoricalFeatures]"
      ],
      "execution_count": null,
      "outputs": []
    },
    {
      "cell_type": "code",
      "metadata": {
        "id": "JalY5lguaF3t"
      },
      "source": [
        "featureIndexer = VectorAssembler(inputCols=requiredFeatures,outputCol=\"features\") "
      ],
      "execution_count": null,
      "outputs": []
    },
    {
      "cell_type": "code",
      "metadata": {
        "id": "PvFOKmbTbSu1"
      },
      "source": [
        "from pyspark.ml.classification import RandomForestClassifier"
      ],
      "execution_count": null,
      "outputs": []
    },
    {
      "cell_type": "code",
      "metadata": {
        "id": "TM0G5ScdbYry"
      },
      "source": [
        "rf = RandomForestClassifier(labelCol='label_idx', featuresCol='features', maxDepth=10)"
      ],
      "execution_count": null,
      "outputs": []
    },
    {
      "cell_type": "code",
      "metadata": {
        "id": "to_Hw_90by7f"
      },
      "source": [
        "pipeline = Pipeline(stages=indexers + encoders + labelIndexer + [featureIndexer,rf])"
      ],
      "execution_count": null,
      "outputs": []
    },
    {
      "cell_type": "code",
      "metadata": {
        "id": "h4TIAnZncSvi"
      },
      "source": [
        "model = pipeline.fit(trainingData)"
      ],
      "execution_count": null,
      "outputs": []
    },
    {
      "cell_type": "code",
      "metadata": {
        "id": "dgs-NPD_cidN"
      },
      "source": [
        "predictions = model.transform(testData)"
      ],
      "execution_count": null,
      "outputs": []
    },
    {
      "cell_type": "code",
      "metadata": {
        "colab": {
          "base_uri": "https://localhost:8080/"
        },
        "id": "Ged4IhGFc0eN",
        "outputId": "0f854d5c-4db7-485e-e1f4-b0d33ed69977"
      },
      "source": [
        "predictions.select(\"prediction\",\"label_idx\",\"features\").show()"
      ],
      "execution_count": null,
      "outputs": [
        {
          "output_type": "stream",
          "text": [
            "+----------+---------+--------------------+\n",
            "|prediction|label_idx|            features|\n",
            "+----------+---------+--------------------+\n",
            "|       0.0|      0.0|(98,[2,12,24,31,4...|\n",
            "|       0.0|      0.0|(98,[2,12,24,41,4...|\n",
            "|       0.0|      0.0|(98,[2,17,24,35,4...|\n",
            "|       0.0|      0.0|(98,[0,14,24,33,4...|\n",
            "|       0.0|      0.0|(98,[0,14,24,38,4...|\n",
            "|       0.0|      0.0|(98,[0,14,24,38,4...|\n",
            "|       0.0|      0.0|(98,[0,14,24,35,4...|\n",
            "|       0.0|      0.0|(98,[0,14,24,35,4...|\n",
            "|       0.0|      0.0|(98,[0,14,24,35,4...|\n",
            "|       0.0|      0.0|(98,[0,14,24,35,4...|\n",
            "|       0.0|      0.0|(98,[0,14,24,35,4...|\n",
            "|       0.0|      0.0|(98,[0,14,24,35,4...|\n",
            "|       0.0|      0.0|(98,[0,14,24,35,4...|\n",
            "|       0.0|      0.0|(98,[0,14,24,35,4...|\n",
            "|       0.0|      0.0|(98,[0,14,24,35,4...|\n",
            "|       0.0|      0.0|(98,[0,14,24,35,4...|\n",
            "|       0.0|      0.0|(98,[0,14,24,35,4...|\n",
            "|       0.0|      0.0|(98,[0,14,24,35,4...|\n",
            "|       0.0|      0.0|(98,[0,14,24,35,4...|\n",
            "|       0.0|      0.0|(98,[0,14,24,42,4...|\n",
            "+----------+---------+--------------------+\n",
            "only showing top 20 rows\n",
            "\n"
          ],
          "name": "stdout"
        }
      ]
    },
    {
      "cell_type": "code",
      "metadata": {
        "colab": {
          "base_uri": "https://localhost:8080/"
        },
        "id": "lwvFCcMcdA6J",
        "outputId": "b6986d6f-4f1a-4aec-dea6-a424ed667442"
      },
      "source": [
        "evaluator = MulticlassClassificationEvaluator(labelCol=\"label_idx\", predictionCol=\"prediction\", metricName=\"f1\")\n",
        "fmeasure = evaluator.evaluate(predictions)\n",
        "print(\"f1:\",fmeasure)"
      ],
      "execution_count": null,
      "outputs": [
        {
          "output_type": "stream",
          "text": [
            "f1: 0.8055673385183819\n"
          ],
          "name": "stdout"
        }
      ]
    },
    {
      "cell_type": "code",
      "metadata": {
        "colab": {
          "base_uri": "https://localhost:8080/"
        },
        "id": "qrf_X_ZxeeKp",
        "outputId": "bc714193-d372-4b04-b180-b76073445127"
      },
      "source": [
        "evaluator = MulticlassClassificationEvaluator(labelCol=\"label_idx\", predictionCol=\"prediction\", metricName=\"accuracy\")\n",
        "fmeasure = evaluator.evaluate(predictions)\n",
        "print(\"accuracy:\",fmeasure)"
      ],
      "execution_count": null,
      "outputs": [
        {
          "output_type": "stream",
          "text": [
            "accuracy: 0.8194512896336454\n"
          ],
          "name": "stdout"
        }
      ]
    },
    {
      "cell_type": "code",
      "metadata": {
        "id": "XecTcNWmdFLL"
      },
      "source": [
        "y_pred = predictions.select([\"prediction\"]).collect()\n",
        "y_test = predictions.select([\"label_idx\"]).collect()"
      ],
      "execution_count": null,
      "outputs": []
    },
    {
      "cell_type": "code",
      "metadata": {
        "colab": {
          "base_uri": "https://localhost:8080/"
        },
        "id": "xKC0GFMydK8M",
        "outputId": "dc4a2518-1ca7-4528-e8b9-050f84b40a77"
      },
      "source": [
        "print(classification_report(y_test,y_pred))\n",
        "matrix = confusion_matrix(y_test,y_pred)\n",
        "fig,ax = plot_confusion_matrix(conf_mat=matrix)\n",
        "plt.show()"
      ],
      "execution_count": null,
      "outputs": [
        {
          "output_type": "stream",
          "text": [
            "              precision    recall  f1-score   support\n",
            "\n",
            "         0.0       0.84      0.94      0.89      4555\n",
            "         1.0       0.72      0.47      0.57      1532\n",
            "\n",
            "    accuracy                           0.82      6087\n",
            "   macro avg       0.78      0.70      0.73      6087\n",
            "weighted avg       0.81      0.82      0.81      6087\n",
            "\n"
          ],
          "name": "stdout"
        },
        {
          "output_type": "display_data",
          "data": {
            "image/png": "[encoded data removed]",
            "text/plain": [
              "<Figure size 432x288 with 1 Axes>"
            ]
          },
          "metadata": {
            "tags": [],
            "needs_background": "light"
          }
        }
      ]
    },
    {
      "cell_type": "markdown",
      "metadata": {
        "id": "ThuU1UPskEdf"
      },
      "source": [
        "# Automobile"
      ]
    },
    {
      "cell_type": "markdown",
      "metadata": {
        "id": "zzvj8jJ8pS6q"
      },
      "source": [
        "Predicting the price of an automobile given a set of features"
      ]
    },
    {
      "cell_type": "code",
      "metadata": {
        "id": "lM9ZvU93o73Y"
      },
      "source": [
        "auto_df = spark.read.csv('/content/Building-Machine-Learning-Models-in-Spark-2/datasets/imports-85.data',header=True,inferSchema=True)"
      ],
      "execution_count": null,
      "outputs": []
    },
    {
      "cell_type": "code",
      "metadata": {
        "colab": {
          "base_uri": "https://localhost:8080/"
        },
        "id": "h_nldK01pqAF",
        "outputId": "fd8de37d-334a-4cdb-d144-f98edf0e8458"
      },
      "source": [
        "auto_df.show()"
      ],
      "execution_count": null,
      "outputs": [
        {
          "output_type": "stream",
          "text": [
            "+---------+-----------------+-----------+---------+----------+------------+-----------+------------+---------------+----------+------+-----+------+-----------+-----------+----------------+-----------+-----------+----+------+-----------------+----------+--------+--------+-----------+-----+\n",
            "|symboling|normalized-losses|       make|fuel-type|aspiration|num-of-doors| body-style|drive-wheels|engine-location|wheel-base|length|width|height|curb-weight|engine-type|num-of-cylinders|engine-size|fuel-system|bore|stroke|compression-ratio|horsepower|peak-rpm|city-mpg|highway-mpg|price|\n",
            "+---------+-----------------+-----------+---------+----------+------------+-----------+------------+---------------+----------+------+-----+------+-----------+-----------+----------------+-----------+-----------+----+------+-----------------+----------+--------+--------+-----------+-----+\n",
            "|        3|                ?|alfa-romero|      gas|       std|         two|convertible|         rwd|          front|      88.6| 168.8| 64.1|  48.8|       2548|       dohc|            four|        130|       mpfi|3.47|  2.68|              9.0|       111|    5000|      21|         27|13495|\n",
            "|        3|                ?|alfa-romero|      gas|       std|         two|convertible|         rwd|          front|      88.6| 168.8| 64.1|  48.8|       2548|       dohc|            four|        130|       mpfi|3.47|  2.68|              9.0|       111|    5000|      21|         27|16500|\n",
            "|        1|                ?|alfa-romero|      gas|       std|         two|  hatchback|         rwd|          front|      94.5| 171.2| 65.5|  52.4|       2823|       ohcv|             six|        152|       mpfi|2.68|  3.47|              9.0|       154|    5000|      19|         26|16500|\n",
            "|        2|              164|       audi|      gas|       std|        four|      sedan|         fwd|          front|      99.8| 176.6| 66.2|  54.3|       2337|        ohc|            four|        109|       mpfi|3.19|   3.4|             10.0|       102|    5500|      24|         30|13950|\n",
            "|        2|              164|       audi|      gas|       std|        four|      sedan|         4wd|          front|      99.4| 176.6| 66.4|  54.3|       2824|        ohc|            five|        136|       mpfi|3.19|   3.4|              8.0|       115|    5500|      18|         22|17450|\n",
            "|        2|                ?|       audi|      gas|       std|         two|      sedan|         fwd|          front|      99.8| 177.3| 66.3|  53.1|       2507|        ohc|            five|        136|       mpfi|3.19|   3.4|              8.5|       110|    5500|      19|         25|15250|\n",
            "|        1|              158|       audi|      gas|       std|        four|      sedan|         fwd|          front|     105.8| 192.7| 71.4|  55.7|       2844|        ohc|            five|        136|       mpfi|3.19|   3.4|              8.5|       110|    5500|      19|         25|17710|\n",
            "|        1|                ?|       audi|      gas|       std|        four|      wagon|         fwd|          front|     105.8| 192.7| 71.4|  55.7|       2954|        ohc|            five|        136|       mpfi|3.19|   3.4|              8.5|       110|    5500|      19|         25|18920|\n",
            "|        1|              158|       audi|      gas|     turbo|        four|      sedan|         fwd|          front|     105.8| 192.7| 71.4|  55.9|       3086|        ohc|            five|        131|       mpfi|3.13|   3.4|              8.3|       140|    5500|      17|         20|23875|\n",
            "|        0|                ?|       audi|      gas|     turbo|         two|  hatchback|         4wd|          front|      99.5| 178.2| 67.9|  52.0|       3053|        ohc|            five|        131|       mpfi|3.13|   3.4|              7.0|       160|    5500|      16|         22|    ?|\n",
            "|        2|              192|        bmw|      gas|       std|         two|      sedan|         rwd|          front|     101.2| 176.8| 64.8|  54.3|       2395|        ohc|            four|        108|       mpfi| 3.5|   2.8|              8.8|       101|    5800|      23|         29|16430|\n",
            "|        0|              192|        bmw|      gas|       std|        four|      sedan|         rwd|          front|     101.2| 176.8| 64.8|  54.3|       2395|        ohc|            four|        108|       mpfi| 3.5|   2.8|              8.8|       101|    5800|      23|         29|16925|\n",
            "|        0|              188|        bmw|      gas|       std|         two|      sedan|         rwd|          front|     101.2| 176.8| 64.8|  54.3|       2710|        ohc|             six|        164|       mpfi|3.31|  3.19|              9.0|       121|    4250|      21|         28|20970|\n",
            "|        0|              188|        bmw|      gas|       std|        four|      sedan|         rwd|          front|     101.2| 176.8| 64.8|  54.3|       2765|        ohc|             six|        164|       mpfi|3.31|  3.19|              9.0|       121|    4250|      21|         28|21105|\n",
            "|        1|                ?|        bmw|      gas|       std|        four|      sedan|         rwd|          front|     103.5| 189.0| 66.9|  55.7|       3055|        ohc|             six|        164|       mpfi|3.31|  3.19|              9.0|       121|    4250|      20|         25|24565|\n",
            "|        0|                ?|        bmw|      gas|       std|        four|      sedan|         rwd|          front|     103.5| 189.0| 66.9|  55.7|       3230|        ohc|             six|        209|       mpfi|3.62|  3.39|              8.0|       182|    5400|      16|         22|30760|\n",
            "|        0|                ?|        bmw|      gas|       std|         two|      sedan|         rwd|          front|     103.5| 193.8| 67.9|  53.7|       3380|        ohc|             six|        209|       mpfi|3.62|  3.39|              8.0|       182|    5400|      16|         22|41315|\n",
            "|        0|                ?|        bmw|      gas|       std|        four|      sedan|         rwd|          front|     110.0| 197.0| 70.9|  56.3|       3505|        ohc|             six|        209|       mpfi|3.62|  3.39|              8.0|       182|    5400|      15|         20|36880|\n",
            "|        2|              121|  chevrolet|      gas|       std|         two|  hatchback|         fwd|          front|      88.4| 141.1| 60.3|  53.2|       1488|          l|           three|         61|       2bbl|2.91|  3.03|              9.5|        48|    5100|      47|         53| 5151|\n",
            "|        1|               98|  chevrolet|      gas|       std|         two|  hatchback|         fwd|          front|      94.5| 155.9| 63.6|  52.0|       1874|        ohc|            four|         90|       2bbl|3.03|  3.11|              9.6|        70|    5400|      38|         43| 6295|\n",
            "+---------+-----------------+-----------+---------+----------+------------+-----------+------------+---------------+----------+------+-----+------+-----------+-----------+----------------+-----------+-----------+----+------+-----------------+----------+--------+--------+-----------+-----+\n",
            "only showing top 20 rows\n",
            "\n"
          ],
          "name": "stdout"
        }
      ]
    },
    {
      "cell_type": "code",
      "metadata": {
        "colab": {
          "base_uri": "https://localhost:8080/"
        },
        "id": "yKETJSTmrsF1",
        "outputId": "a711e6e6-42c2-4c82-a7a2-b32c6aa5c9ca"
      },
      "source": [
        "auto_df.printSchema()"
      ],
      "execution_count": null,
      "outputs": [
        {
          "output_type": "stream",
          "text": [
            "root\n",
            " |-- symboling: integer (nullable = true)\n",
            " |-- normalized-losses: string (nullable = true)\n",
            " |-- make: string (nullable = true)\n",
            " |-- fuel-type: string (nullable = true)\n",
            " |-- aspiration: string (nullable = true)\n",
            " |-- num-of-doors: string (nullable = true)\n",
            " |-- body-style: string (nullable = true)\n",
            " |-- drive-wheels: string (nullable = true)\n",
            " |-- engine-location: string (nullable = true)\n",
            " |-- wheel-base: double (nullable = true)\n",
            " |-- length: double (nullable = true)\n",
            " |-- width: double (nullable = true)\n",
            " |-- height: double (nullable = true)\n",
            " |-- curb-weight: integer (nullable = true)\n",
            " |-- engine-type: string (nullable = true)\n",
            " |-- num-of-cylinders: string (nullable = true)\n",
            " |-- engine-size: integer (nullable = true)\n",
            " |-- fuel-system: string (nullable = true)\n",
            " |-- bore: string (nullable = true)\n",
            " |-- stroke: string (nullable = true)\n",
            " |-- compression-ratio: double (nullable = true)\n",
            " |-- horsepower: string (nullable = true)\n",
            " |-- peak-rpm: string (nullable = true)\n",
            " |-- city-mpg: integer (nullable = true)\n",
            " |-- highway-mpg: integer (nullable = true)\n",
            " |-- price: string (nullable = true)\n",
            "\n"
          ],
          "name": "stdout"
        }
      ]
    },
    {
      "cell_type": "code",
      "metadata": {
        "id": "Mx_yyZybqt9y"
      },
      "source": [
        "auto_df = auto_df.replace('?',None)"
      ],
      "execution_count": null,
      "outputs": []
    },
    {
      "cell_type": "code",
      "metadata": {
        "id": "J_P4RTo3qv0c"
      },
      "source": [
        "auto_df = auto_df.dropna(how='any')"
      ],
      "execution_count": null,
      "outputs": []
    },
    {
      "cell_type": "code",
      "metadata": {
        "id": "mUdVTzJotcli"
      },
      "source": [
        "from pyspark.sql.functions import col"
      ],
      "execution_count": null,
      "outputs": []
    },
    {
      "cell_type": "code",
      "metadata": {
        "id": "InmNfQuor1Qs"
      },
      "source": [
        "auto_df = auto_df.select(\n",
        "    col('price').cast('float'),\n",
        "    col('make'),\n",
        "    col('num-of-doors'),\n",
        "    col('body-style'),\n",
        "    col('drive-wheels'),\n",
        "    col('wheel-base').cast('float'),\n",
        "    col('curb-weight').cast('float'),\n",
        "    col('num-of-cylinders'),\n",
        "    col('engine-size').cast('float'),\n",
        "    col('horsepower').cast('float'),\n",
        "    col('peak-rpm').cast('float'),\n",
        ")"
      ],
      "execution_count": null,
      "outputs": []
    },
    {
      "cell_type": "code",
      "metadata": {
        "colab": {
          "base_uri": "https://localhost:8080/"
        },
        "id": "KyMHiKqb2wGe",
        "outputId": "1ca80b07-992f-4e60-b370-46ee524bb5cd"
      },
      "source": [
        "auto_df.show()"
      ],
      "execution_count": null,
      "outputs": [
        {
          "output_type": "stream",
          "text": [
            "+-------+---------+------------+----------+------------+----------+-----------+----------------+-----------+----------+--------+\n",
            "|  price|     make|num-of-doors|body-style|drive-wheels|wheel-base|curb-weight|num-of-cylinders|engine-size|horsepower|peak-rpm|\n",
            "+-------+---------+------------+----------+------------+----------+-----------+----------------+-----------+----------+--------+\n",
            "|13950.0|     audi|        four|     sedan|         fwd|      99.8|     2337.0|            four|      109.0|     102.0|  5500.0|\n",
            "|17450.0|     audi|        four|     sedan|         4wd|      99.4|     2824.0|            five|      136.0|     115.0|  5500.0|\n",
            "|17710.0|     audi|        four|     sedan|         fwd|     105.8|     2844.0|            five|      136.0|     110.0|  5500.0|\n",
            "|23875.0|     audi|        four|     sedan|         fwd|     105.8|     3086.0|            five|      131.0|     140.0|  5500.0|\n",
            "|16430.0|      bmw|         two|     sedan|         rwd|     101.2|     2395.0|            four|      108.0|     101.0|  5800.0|\n",
            "|16925.0|      bmw|        four|     sedan|         rwd|     101.2|     2395.0|            four|      108.0|     101.0|  5800.0|\n",
            "|20970.0|      bmw|         two|     sedan|         rwd|     101.2|     2710.0|             six|      164.0|     121.0|  4250.0|\n",
            "|21105.0|      bmw|        four|     sedan|         rwd|     101.2|     2765.0|             six|      164.0|     121.0|  4250.0|\n",
            "| 5151.0|chevrolet|         two| hatchback|         fwd|      88.4|     1488.0|           three|       61.0|      48.0|  5100.0|\n",
            "| 6295.0|chevrolet|         two| hatchback|         fwd|      94.5|     1874.0|            four|       90.0|      70.0|  5400.0|\n",
            "| 6575.0|chevrolet|        four|     sedan|         fwd|      94.5|     1909.0|            four|       90.0|      70.0|  5400.0|\n",
            "| 5572.0|    dodge|         two| hatchback|         fwd|      93.7|     1876.0|            four|       90.0|      68.0|  5500.0|\n",
            "| 6377.0|    dodge|         two| hatchback|         fwd|      93.7|     1876.0|            four|       90.0|      68.0|  5500.0|\n",
            "| 7957.0|    dodge|         two| hatchback|         fwd|      93.7|     2128.0|            four|       98.0|     102.0|  5500.0|\n",
            "| 6229.0|    dodge|        four| hatchback|         fwd|      93.7|     1967.0|            four|       90.0|      68.0|  5500.0|\n",
            "| 6692.0|    dodge|        four|     sedan|         fwd|      93.7|     1989.0|            four|       90.0|      68.0|  5500.0|\n",
            "| 7609.0|    dodge|        four|     sedan|         fwd|      93.7|     1989.0|            four|       90.0|      68.0|  5500.0|\n",
            "| 8921.0|    dodge|        four|     wagon|         fwd|     103.3|     2535.0|            four|      122.0|      88.0|  5000.0|\n",
            "|12964.0|    dodge|         two| hatchback|         fwd|      95.9|     2811.0|            four|      156.0|     145.0|  5000.0|\n",
            "| 6479.0|    honda|         two| hatchback|         fwd|      86.6|     1713.0|            four|       92.0|      58.0|  4800.0|\n",
            "+-------+---------+------------+----------+------------+----------+-----------+----------------+-----------+----------+--------+\n",
            "only showing top 20 rows\n",
            "\n"
          ],
          "name": "stdout"
        }
      ]
    },
    {
      "cell_type": "code",
      "metadata": {
        "id": "D4_dlxtkqyf8"
      },
      "source": [
        "(trainingData,testData) = auto_df.randomSplit([0.8,0.2])"
      ],
      "execution_count": null,
      "outputs": []
    },
    {
      "cell_type": "code",
      "metadata": {
        "id": "yYIEHFy4uE7f"
      },
      "source": [
        "categoricalFeatures = ['make','num-of-doors','body-style','drive-wheels','num-of-cylinders']"
      ],
      "execution_count": null,
      "outputs": []
    },
    {
      "cell_type": "code",
      "metadata": {
        "id": "o8_L2gvuuJ6j"
      },
      "source": [
        "indexers = [StringIndexer(inputCol=column,outputCol=column + '_idx',handleInvalid='keep') for column in categoricalFeatures]"
      ],
      "execution_count": null,
      "outputs": []
    },
    {
      "cell_type": "code",
      "metadata": {
        "id": "muDTknHWuMUz"
      },
      "source": [
        "encoders = [OneHotEncoder(inputCol=column+'_idx',outputCol=column+'_enc') for column in categoricalFeatures]"
      ],
      "execution_count": null,
      "outputs": []
    },
    {
      "cell_type": "code",
      "metadata": {
        "id": "JB38GoWbuPC5"
      },
      "source": [
        "requiredFeatures = [colunm + '_enc' for colunm in categoricalFeatures] + ['wheel-base','curb-weight','engine-size','horsepower','peak-rpm']"
      ],
      "execution_count": null,
      "outputs": []
    },
    {
      "cell_type": "code",
      "metadata": {
        "id": "x0L7A8bUvpRb"
      },
      "source": [
        "featureassembler = VectorAssembler(inputCols=requiredFeatures,outputCol=\"features\") "
      ],
      "execution_count": null,
      "outputs": []
    },
    {
      "cell_type": "code",
      "metadata": {
        "id": "bxnFTiZuvwlZ"
      },
      "source": [
        "from pyspark.ml.regression import LinearRegression"
      ],
      "execution_count": null,
      "outputs": []
    },
    {
      "cell_type": "code",
      "metadata": {
        "id": "A-M41DkUvwYX"
      },
      "source": [
        "lr = LinearRegression(maxIter=100,regParam=1.0,elasticNetParam=0.8,labelCol='price',featuresCol='features')"
      ],
      "execution_count": null,
      "outputs": []
    },
    {
      "cell_type": "code",
      "metadata": {
        "id": "gcptLC-kvqTV"
      },
      "source": [
        "pipeline = Pipeline(stages=indexers + encoders + [featureassembler,lr])"
      ],
      "execution_count": null,
      "outputs": []
    },
    {
      "cell_type": "code",
      "metadata": {
        "id": "iStZ1eo6vzFb"
      },
      "source": [
        "model = pipeline.fit(trainingData)"
      ],
      "execution_count": null,
      "outputs": []
    },
    {
      "cell_type": "code",
      "metadata": {
        "id": "-AWBWpB15Cul"
      },
      "source": [
        "lrModel = model.stages[-1]"
      ],
      "execution_count": null,
      "outputs": []
    },
    {
      "cell_type": "code",
      "metadata": {
        "colab": {
          "base_uri": "https://localhost:8080/"
        },
        "id": "pZvsDlmI5HD0",
        "outputId": "bd04705c-e5a6-49fb-89ce-da8a4d863b03"
      },
      "source": [
        "print('R²:',lrModel.summary.r2)\n",
        "print('RMSE:',lrModel.summary.rootMeanSquaredError)"
      ],
      "execution_count": null,
      "outputs": [
        {
          "output_type": "stream",
          "text": [
            "R²: 0.9627906479562974\n",
            "RMSE: 1065.163883112867\n"
          ],
          "name": "stdout"
        }
      ]
    },
    {
      "cell_type": "code",
      "metadata": {
        "colab": {
          "base_uri": "https://localhost:8080/"
        },
        "id": "5lwD3_Cn5r8m",
        "outputId": "246f768c-75df-41f3-a90e-d22670e60997"
      },
      "source": [
        "lrModel.numFeatures"
      ],
      "execution_count": null,
      "outputs": [
        {
          "output_type": "execute_result",
          "data": {
            "text/plain": [
              "37"
            ]
          },
          "metadata": {
            "tags": []
          },
          "execution_count": 67
        }
      ]
    },
    {
      "cell_type": "code",
      "metadata": {
        "colab": {
          "base_uri": "https://localhost:8080/"
        },
        "id": "2vPOejwA5y6Y",
        "outputId": "99251ed6-9b6d-4860-a0ca-e63497f4215d"
      },
      "source": [
        "lrModel.coefficients"
      ],
      "execution_count": null,
      "outputs": [
        {
          "output_type": "execute_result",
          "data": {
            "text/plain": [
              "DenseVector([-1425.3901, -45.1633, -1324.8966, 585.3758, 204.0503, 1332.7127, -1107.5322, -2499.564, -377.5968, -443.1408, -653.5717, 4625.8656, -149.6928, 6023.6348, 529.5522, 204.6782, 8286.3045, 197.2671, -197.2671, 107.6582, 292.2583, -2026.9998, -1148.6521, 5373.828, -1230.8348, 652.8637, -404.059, -1241.2519, 708.9039, 2500.0349, 5373.828, 124.6038, 122.3606, 6.8908, -47.2041, 30.1752, -0.8728])"
            ]
          },
          "metadata": {
            "tags": []
          },
          "execution_count": 68
        }
      ]
    },
    {
      "cell_type": "code",
      "metadata": {
        "id": "_ZoVXOdSv1_r"
      },
      "source": [
        "predictions = model.transform(testData)"
      ],
      "execution_count": null,
      "outputs": []
    },
    {
      "cell_type": "code",
      "metadata": {
        "colab": {
          "base_uri": "https://localhost:8080/"
        },
        "id": "d4k1djtpv30j",
        "outputId": "bbf94645-13ec-4b04-96c6-3f29e730cac5"
      },
      "source": [
        "predictions.select(\"prediction\",\"price\",\"features\").show()"
      ],
      "execution_count": null,
      "outputs": [
        {
          "output_type": "stream",
          "text": [
            "+------------------+------+--------------------+\n",
            "|        prediction| price|            features|\n",
            "+------------------+------+--------------------+\n",
            "| 6423.470719511455|6338.0|(37,[0,18,20,24,2...|\n",
            "| 6257.687207471181|6649.0|(37,[1,18,19,24,2...|\n",
            "| 5818.662970106021|6669.0|(37,[6,18,20,24,2...|\n",
            "| 5173.030853483504|6855.0|(37,[3,18,20,24,2...|\n",
            "| 6152.550175835035|6918.0|(37,[0,17,21,24,2...|\n",
            "| 6874.106096683727|6938.0|(37,[0,17,19,24,2...|\n",
            "| 6985.836643432098|7129.0|(37,[3,18,20,24,2...|\n",
            "| 5872.300306368763|7295.0|(37,[3,17,21,24,2...|\n",
            "|  5247.99329021045|7349.0|(37,[1,17,21,24,2...|\n",
            "|  6684.03397330153|7609.0|(37,[9,17,19,24,2...|\n",
            "| 7200.280540403948|7799.0|(37,[1,18,20,24,2...|\n",
            "| 8080.250628895346|7957.0|(37,[9,18,20,24,2...|\n",
            "| 7869.819721523994|7957.0|(37,[10,18,20,24,...|\n",
            "|  8145.81586108673|7975.0|(37,[8,18,19,24,2...|\n",
            "| 5337.574303262585|7999.0|(37,[1,17,21,24,2...|\n",
            "| 8561.022608372468|8195.0|(37,[8,17,19,24,2...|\n",
            "| 9248.612428892086|8238.0|(37,[0,18,20,25,2...|\n",
            "|5694.9692970134365|8249.0|(37,[1,18,22,24,2...|\n",
            "|10439.506842166056|8495.0|(37,[4,17,19,24,2...|\n",
            "|12698.729096932859|8778.0|(37,[0,17,21,26,2...|\n",
            "+------------------+------+--------------------+\n",
            "only showing top 20 rows\n",
            "\n"
          ],
          "name": "stdout"
        }
      ]
    },
    {
      "cell_type": "code",
      "metadata": {
        "id": "dEETyP5p5-Sq"
      },
      "source": [
        "from pyspark.ml.evaluation import RegressionEvaluator"
      ],
      "execution_count": null,
      "outputs": []
    },
    {
      "cell_type": "code",
      "metadata": {
        "colab": {
          "base_uri": "https://localhost:8080/"
        },
        "id": "gcen4N2l6FsO",
        "outputId": "1475746d-c515-4d1e-825f-761c845da9d6"
      },
      "source": [
        "evaluator = RegressionEvaluator(labelCol='price',predictionCol='prediction',metricName='r2')\n",
        "r2 = evaluator.evaluate(predictions)\n",
        "print('Test R² score:', r2)"
      ],
      "execution_count": null,
      "outputs": [
        {
          "output_type": "stream",
          "text": [
            "Test R² score: 0.869411394188588\n"
          ],
          "name": "stdout"
        }
      ]
    },
    {
      "cell_type": "code",
      "metadata": {
        "colab": {
          "base_uri": "https://localhost:8080/"
        },
        "id": "XuCzylYI6mUg",
        "outputId": "00560dbe-e225-4fe2-ec50-632b848837e8"
      },
      "source": [
        "evaluator = RegressionEvaluator(labelCol='price',predictionCol='prediction',metricName='rmse')\n",
        "rmse = evaluator.evaluate(predictions)\n",
        "print('Test rmse score:', rmse)"
      ],
      "execution_count": null,
      "outputs": [
        {
          "output_type": "stream",
          "text": [
            "Test rmse score: 2492.754311951457\n"
          ],
          "name": "stdout"
        }
      ]
    },
    {
      "cell_type": "code",
      "metadata": {
        "id": "9yjLekfu8a1e"
      },
      "source": [
        "predict_df = predictions.select(\"prediction\",\"price\").toPandas()"
      ],
      "execution_count": null,
      "outputs": []
    },
    {
      "cell_type": "code",
      "metadata": {
        "colab": {
          "base_uri": "https://localhost:8080/"
        },
        "id": "-e3St-O2_EyQ",
        "outputId": "5d12b479-27bd-4a5b-b142-3b20f22b1ae0"
      },
      "source": [
        "plt.figure(figsize=(15,6))\n",
        "plt.plot(predict_df['price'],label='Actual')\n",
        "plt.plot(predict_df['prediction'],label='Predicted')\n",
        "plt.ylabel('Price')\n",
        "plt.legend()\n",
        "plt.show()"
      ],
      "execution_count": null,
      "outputs": [
        {
          "output_type": "display_data",
          "data": {
            "image/png": "[encoded data removed]",
            "text/plain": [
              "<Figure size 1080x432 with 1 Axes>"
            ]
          },
          "metadata": {
            "tags": [],
            "needs_background": "light"
          }
        }
      ]
    },
    {
      "cell_type": "code",
      "metadata": {
        "id": "8PdjzSym__AS"
      },
      "source": [
        "from pyspark.ml.tuning import ParamGridBuilder"
      ],
      "execution_count": null,
      "outputs": []
    },
    {
      "cell_type": "code",
      "metadata": {
        "id": "aXUdivAVAEXY"
      },
      "source": [
        "paramGrid = ParamGridBuilder().addGrid(\n",
        "    lr.maxIter,[10,50,100]).addGrid(\n",
        "    lr.regParam,[0.1,0.3,1.0]).addGrid(\n",
        "    lr.elasticNetParam,[0.0,0.8,1.0]).build()"
      ],
      "execution_count": null,
      "outputs": []
    },
    {
      "cell_type": "code",
      "metadata": {
        "id": "iwP78GfvD4jN"
      },
      "source": [
        "evaluator = RegressionEvaluator(labelCol='price',predictionCol='prediction',metricName='rmse')"
      ],
      "execution_count": null,
      "outputs": []
    },
    {
      "cell_type": "code",
      "metadata": {
        "id": "1NkXXqNBELMV"
      },
      "source": [
        "from pyspark.ml.tuning import CrossValidator"
      ],
      "execution_count": null,
      "outputs": []
    },
    {
      "cell_type": "code",
      "metadata": {
        "id": "AbXx2QV0EbHL"
      },
      "source": [
        "crossval = CrossValidator(estimator=pipeline,estimatorParamMaps=paramGrid,evaluator=evaluator,numFolds=3)"
      ],
      "execution_count": null,
      "outputs": []
    },
    {
      "cell_type": "code",
      "metadata": {
        "id": "n--c9KEbEmp1"
      },
      "source": [
        "model = crossval.fit(trainingData)"
      ],
      "execution_count": null,
      "outputs": []
    },
    {
      "cell_type": "code",
      "metadata": {
        "id": "suKT48vzFhBE"
      },
      "source": [
        "blrmodel = model.bestModel.stages[-1]"
      ],
      "execution_count": null,
      "outputs": []
    },
    {
      "cell_type": "code",
      "metadata": {
        "colab": {
          "base_uri": "https://localhost:8080/"
        },
        "id": "Elaa0UX9Gle5",
        "outputId": "7d69800c-7f0a-4f58-c09d-684814193394"
      },
      "source": [
        "print('MaxIter', lrModel._java_obj.getMaxIter())\n",
        "print('elasticNetParam',lrModel._java_obj.getElasticNetParam())\n",
        "print('regParam',lrModel._java_obj.getRegParam())"
      ],
      "execution_count": null,
      "outputs": [
        {
          "output_type": "stream",
          "text": [
            "MaxIter 100\n",
            "elasticNetParam 0.8\n",
            "regParam 1.0\n"
          ],
          "name": "stdout"
        }
      ]
    },
    {
      "cell_type": "code",
      "metadata": {
        "id": "H_Q72_c-HX0B"
      },
      "source": [
        "predictions = model.transform(testData)"
      ],
      "execution_count": null,
      "outputs": []
    },
    {
      "cell_type": "code",
      "metadata": {
        "colab": {
          "base_uri": "https://localhost:8080/"
        },
        "id": "l0pnuYbJHa3w",
        "outputId": "18b693fc-209a-4295-dd78-213e232621f5"
      },
      "source": [
        "evaluator = RegressionEvaluator(labelCol='price',predictionCol='prediction',metricName='r2')\n",
        "r2 = evaluator.evaluate(predictions)\n",
        "print('Test R² score:', r2)"
      ],
      "execution_count": null,
      "outputs": [
        {
          "output_type": "stream",
          "text": [
            "Test R² score: 0.8662310958047075\n"
          ],
          "name": "stdout"
        }
      ]
    },
    {
      "cell_type": "code",
      "metadata": {
        "colab": {
          "base_uri": "https://localhost:8080/"
        },
        "id": "njQyCDWOHeru",
        "outputId": "758038b5-df3b-47e7-9ad5-109be0640660"
      },
      "source": [
        "evaluator = RegressionEvaluator(labelCol='price',predictionCol='prediction',metricName='rmse')\n",
        "rmse = evaluator.evaluate(predictions)\n",
        "print('Test rmse score:', rmse)"
      ],
      "execution_count": null,
      "outputs": [
        {
          "output_type": "stream",
          "text": [
            "Test rmse score: 2522.9254530016588\n"
          ],
          "name": "stdout"
        }
      ]
    },
    {
      "cell_type": "markdown",
      "metadata": {
        "id": "Ed53l1HLUdxo"
      },
      "source": [
        "# Titanic"
      ]
    },
    {
      "cell_type": "code",
      "metadata": {
        "id": "Xvmrl_EiUghN"
      },
      "source": [
        "titanic_df = spark.read.csv('/content/Building-Machine-Learning-Models-in-Spark-2/datasets/titanic.csv',header=True,inferSchema=True)"
      ],
      "execution_count": null,
      "outputs": []
    },
    {
      "cell_type": "code",
      "metadata": {
        "colab": {
          "base_uri": "https://localhost:8080/"
        },
        "id": "IlE1WItsVOFX",
        "outputId": "9e44462b-44b2-4d66-d6c1-f7654b692c6c"
      },
      "source": [
        "titanic_df.printSchema()"
      ],
      "execution_count": null,
      "outputs": [
        {
          "output_type": "stream",
          "text": [
            "root\n",
            " |-- PassengerId: integer (nullable = true)\n",
            " |-- Survived: integer (nullable = true)\n",
            " |-- Pclass: integer (nullable = true)\n",
            " |-- Name: string (nullable = true)\n",
            " |-- Sex: string (nullable = true)\n",
            " |-- Age: double (nullable = true)\n",
            " |-- SibSp: integer (nullable = true)\n",
            " |-- Parch: integer (nullable = true)\n",
            " |-- Ticket: string (nullable = true)\n",
            " |-- Fare: double (nullable = true)\n",
            " |-- Cabin: string (nullable = true)\n",
            " |-- Embarked: string (nullable = true)\n",
            "\n"
          ],
          "name": "stdout"
        }
      ]
    },
    {
      "cell_type": "code",
      "metadata": {
        "id": "GSv4ZcklVatJ"
      },
      "source": [
        "titanic_df = titanic_df.drop('PassengerId','Name','SibSp','Ticket','Cabin')"
      ],
      "execution_count": null,
      "outputs": []
    },
    {
      "cell_type": "code",
      "metadata": {
        "id": "5R8ODZlIV1lb"
      },
      "source": [
        "titanic_df = titanic_df.replace('?',None).dropna(how='any')"
      ],
      "execution_count": null,
      "outputs": []
    },
    {
      "cell_type": "code",
      "metadata": {
        "id": "5GY_Raq1XNso"
      },
      "source": [
        "titanic_df = StringIndexer(inputCol='Sex',outputCol='Gender',handleInvalid='keep').fit(titanic_df).transform(titanic_df)"
      ],
      "execution_count": null,
      "outputs": []
    },
    {
      "cell_type": "code",
      "metadata": {
        "id": "Wn8FSeC_Xb6W"
      },
      "source": [
        "titanic_df = StringIndexer(inputCol='Embarked',outputCol='Boarded',handleInvalid='keep').fit(titanic_df).transform(titanic_df)"
      ],
      "execution_count": null,
      "outputs": []
    },
    {
      "cell_type": "code",
      "metadata": {
        "id": "RZDfmKX4XhSC"
      },
      "source": [
        "titanic_df = titanic_df.drop('Sex','Embarked')"
      ],
      "execution_count": null,
      "outputs": []
    },
    {
      "cell_type": "code",
      "metadata": {
        "id": "BOYDqkhtXyOp"
      },
      "source": [
        "assembler = VectorAssembler(inputCols=titanic_df.columns,outputCol='features')"
      ],
      "execution_count": null,
      "outputs": []
    },
    {
      "cell_type": "code",
      "metadata": {
        "id": "gFV0TgeGYB5O"
      },
      "source": [
        "titanic_ready = assembler.transform(titanic_df)"
      ],
      "execution_count": null,
      "outputs": []
    },
    {
      "cell_type": "code",
      "metadata": {
        "id": "RJ8ctVZsYrP9"
      },
      "source": [
        "from pyspark.ml.clustering import KMeans"
      ],
      "execution_count": null,
      "outputs": []
    },
    {
      "cell_type": "code",
      "metadata": {
        "id": "IjyKayY9Yv3T"
      },
      "source": [
        "kmeans = KMeans(k=8, seed=3)\n",
        "model = kmeans.fit(titanic_ready)"
      ],
      "execution_count": null,
      "outputs": []
    },
    {
      "cell_type": "code",
      "metadata": {
        "id": "J_53NOMTZAgO"
      },
      "source": [
        "clusterdata = model.transform(titanic_ready)"
      ],
      "execution_count": null,
      "outputs": []
    },
    {
      "cell_type": "code",
      "metadata": {
        "id": "jaufPcsPZJwq"
      },
      "source": [
        "from pyspark.ml.evaluation import ClusteringEvaluator"
      ],
      "execution_count": null,
      "outputs": []
    },
    {
      "cell_type": "code",
      "metadata": {
        "colab": {
          "base_uri": "https://localhost:8080/"
        },
        "id": "awQB84GIZQVy",
        "outputId": "538179f0-3845-4a01-a369-db174ae98c25"
      },
      "source": [
        "evaluator = ClusteringEvaluator()\n",
        "silhouette = evaluator.evaluate(clusterdata)\n",
        "print(silhouette)"
      ],
      "execution_count": null,
      "outputs": [
        {
          "output_type": "stream",
          "text": [
            "0.6315918449619775\n"
          ],
          "name": "stdout"
        }
      ]
    },
    {
      "cell_type": "code",
      "metadata": {
        "colab": {
          "base_uri": "https://localhost:8080/"
        },
        "id": "fYqQ5f_pZk1n",
        "outputId": "cdea5424-8f3c-42a9-b578-a4d6f78e52d7"
      },
      "source": [
        "centers = model.clusterCenters()\n",
        "centers"
      ],
      "execution_count": null,
      "outputs": [
        {
          "output_type": "execute_result",
          "data": {
            "text/plain": [
              "[array([ 0.23913043,  2.17391304, 51.47282609,  0.11956522, 16.22165   ,\n",
              "         0.20652174,  0.20652174]),\n",
              " array([ 0.26470588,  2.76143791, 25.29411765,  0.10457516,  9.62966928,\n",
              "         0.27124183,  0.21895425]),\n",
              " array([1.00000000e+00, 1.00000000e+00, 3.53333333e+01, 3.33333333e-01,\n",
              "        5.12329200e+02, 3.33333333e-01, 1.00000000e+00]),\n",
              " array([  0.73333333,   1.        ,  30.33333333,   1.33333333,\n",
              "        239.99194   ,   0.73333333,   0.53333333]),\n",
              " array([  0.73333333,   1.        ,  32.43066667,   0.86666667,\n",
              "        131.18388333,   0.63333333,   0.5       ]),\n",
              " array([ 0.68888889,  1.16666667, 36.03333333,  0.32222222, 69.30111333,\n",
              "         0.48888889,  0.38888889]),\n",
              " array([ 0.54320988,  2.62962963,  7.17592593,  1.30864198, 27.04722099,\n",
              "         0.49382716,  0.2345679 ]),\n",
              " array([ 0.45263158,  1.93684211, 34.43684211,  0.87368421, 28.13162211,\n",
              "         0.44210526,  0.21052632])]"
            ]
          },
          "metadata": {
            "tags": []
          },
          "execution_count": 101
        }
      ]
    },
    {
      "cell_type": "code",
      "metadata": {
        "colab": {
          "base_uri": "https://localhost:8080/"
        },
        "id": "UGWkGAZyZ1xd",
        "outputId": "d9a1b56c-e72a-4d6e-e5f7-e3c92390f50d"
      },
      "source": [
        "clusterdata.show()"
      ],
      "execution_count": null,
      "outputs": [
        {
          "output_type": "stream",
          "text": [
            "+--------+------+----+-----+-------+------+-------+--------------------+----------+\n",
            "|Survived|Pclass| Age|Parch|   Fare|Gender|Boarded|            features|prediction|\n",
            "+--------+------+----+-----+-------+------+-------+--------------------+----------+\n",
            "|       0|     3|22.0|    0|   7.25|   0.0|    0.0|(7,[1,2,4],[3.0,2...|         1|\n",
            "|       1|     1|38.0|    0|71.2833|   1.0|    1.0|[1.0,1.0,38.0,0.0...|         5|\n",
            "|       1|     3|26.0|    0|  7.925|   1.0|    0.0|[1.0,3.0,26.0,0.0...|         1|\n",
            "|       1|     1|35.0|    0|   53.1|   1.0|    0.0|[1.0,1.0,35.0,0.0...|         5|\n",
            "|       0|     3|35.0|    0|   8.05|   0.0|    0.0|(7,[1,2,4],[3.0,3...|         1|\n",
            "|       0|     1|54.0|    0|51.8625|   0.0|    0.0|(7,[1,2,4],[1.0,5...|         5|\n",
            "|       0|     3| 2.0|    1| 21.075|   0.0|    0.0|[0.0,3.0,2.0,1.0,...|         6|\n",
            "|       1|     3|27.0|    2|11.1333|   1.0|    0.0|[1.0,3.0,27.0,2.0...|         1|\n",
            "|       1|     2|14.0|    0|30.0708|   1.0|    1.0|[1.0,2.0,14.0,0.0...|         6|\n",
            "|       1|     3| 4.0|    1|   16.7|   1.0|    0.0|[1.0,3.0,4.0,1.0,...|         6|\n",
            "|       1|     1|58.0|    0|  26.55|   1.0|    0.0|[1.0,1.0,58.0,0.0...|         0|\n",
            "|       0|     3|20.0|    0|   8.05|   0.0|    0.0|(7,[1,2,4],[3.0,2...|         1|\n",
            "|       0|     3|39.0|    5| 31.275|   0.0|    0.0|[0.0,3.0,39.0,5.0...|         7|\n",
            "|       0|     3|14.0|    0| 7.8542|   1.0|    0.0|[0.0,3.0,14.0,0.0...|         1|\n",
            "|       1|     2|55.0|    0|   16.0|   1.0|    0.0|[1.0,2.0,55.0,0.0...|         0|\n",
            "|       0|     3| 2.0|    1| 29.125|   0.0|    2.0|[0.0,3.0,2.0,1.0,...|         6|\n",
            "|       0|     3|31.0|    0|   18.0|   1.0|    0.0|[0.0,3.0,31.0,0.0...|         1|\n",
            "|       0|     2|35.0|    0|   26.0|   0.0|    0.0|(7,[1,2,4],[2.0,3...|         7|\n",
            "|       1|     2|34.0|    0|   13.0|   0.0|    0.0|[1.0,2.0,34.0,0.0...|         1|\n",
            "|       1|     3|15.0|    0| 8.0292|   1.0|    2.0|[1.0,3.0,15.0,0.0...|         1|\n",
            "+--------+------+----+-----+-------+------+-------+--------------------+----------+\n",
            "only showing top 20 rows\n",
            "\n"
          ],
          "name": "stdout"
        }
      ]
    },
    {
      "cell_type": "code",
      "metadata": {
        "id": "UFQkLV7GZ-ik"
      },
      "source": [
        "from pyspark.sql.functions import avg,count"
      ],
      "execution_count": null,
      "outputs": []
    },
    {
      "cell_type": "code",
      "metadata": {
        "colab": {
          "base_uri": "https://localhost:8080/"
        },
        "id": "1nrZGGXsaE-2",
        "outputId": "ec1d682c-8f11-44ba-b718-0b27be3857c6"
      },
      "source": [
        "titanic_df.select(\n",
        "    avg('Survived'),avg('Pclass'),avg('Age'),avg('Fare'),avg('Gender'),avg('Boarded')\n",
        ").show()"
      ],
      "execution_count": null,
      "outputs": [
        {
          "output_type": "stream",
          "text": [
            "+------------------+-----------------+-----------------+-----------------+------------------+------------------+\n",
            "|     avg(Survived)|      avg(Pclass)|         avg(Age)|        avg(Fare)|       avg(Gender)|      avg(Boarded)|\n",
            "+------------------+-----------------+-----------------+-----------------+------------------+------------------+\n",
            "|0.4044943820224719|2.240168539325843|29.64209269662921|34.56725140449432|0.3637640449438202|0.2612359550561798|\n",
            "+------------------+-----------------+-----------------+-----------------+------------------+------------------+\n",
            "\n"
          ],
          "name": "stdout"
        }
      ]
    },
    {
      "cell_type": "code",
      "metadata": {
        "colab": {
          "base_uri": "https://localhost:8080/"
        },
        "id": "U6jcLQwQbcL2",
        "outputId": "ec2c8fa5-03f0-466a-932d-67df596be7a4"
      },
      "source": [
        "clusterdata.groupBy('prediction').agg(avg('Survived'),avg('Pclass'),avg('Age'),avg('Fare'),avg('Gender'),avg('Boarded'),count('prediction')).orderBy('prediction').show()"
      ],
      "execution_count": null,
      "outputs": [
        {
          "output_type": "stream",
          "text": [
            "+----------+-------------------+------------------+------------------+------------------+-------------------+-------------------+-----------------+\n",
            "|prediction|      avg(Survived)|       avg(Pclass)|          avg(Age)|         avg(Fare)|        avg(Gender)|       avg(Boarded)|count(prediction)|\n",
            "+----------+-------------------+------------------+------------------+------------------+-------------------+-------------------+-----------------+\n",
            "|         0| 0.2391304347826087|2.1739130434782608| 51.47282608695652|          16.22165|0.20652173913043478|0.20652173913043478|               92|\n",
            "|         1| 0.2647058823529412| 2.761437908496732|25.294117647058822| 9.629669281045755|0.27124183006535946|0.21895424836601307|              306|\n",
            "|         2|                1.0|               1.0|35.333333333333336|          512.3292| 0.3333333333333333|                1.0|                3|\n",
            "|         3| 0.7333333333333333|               1.0|30.333333333333332|239.99194000000003| 0.7333333333333333| 0.5333333333333333|               15|\n",
            "|         4| 0.7333333333333333|               1.0| 32.43066666666667|131.18388333333334| 0.6333333333333333|                0.5|               30|\n",
            "|         5| 0.6888888888888889|1.1666666666666667| 36.03333333333333| 69.30111333333335| 0.4888888888888889| 0.3888888888888889|               90|\n",
            "|         6| 0.5432098765432098|2.6296296296296298| 7.175925925925927|27.047220987654335|0.49382716049382713| 0.2345679012345679|               81|\n",
            "|         7|0.45263157894736844| 1.936842105263158| 34.43684210526316| 28.13162210526316| 0.4421052631578947|0.21052631578947367|               95|\n",
            "+----------+-------------------+------------------+------------------+------------------+-------------------+-------------------+-----------------+\n",
            "\n"
          ],
          "name": "stdout"
        }
      ]
    },
    {
      "cell_type": "code",
      "metadata": {
        "colab": {
          "base_uri": "https://localhost:8080/"
        },
        "id": "mH9zr2WVcV3V",
        "outputId": "07dbde33-9625-4f78-846c-3c59ddd94d25"
      },
      "source": [
        "clusterdata.filter(clusterdata.prediction==1).show()"
      ],
      "execution_count": null,
      "outputs": [
        {
          "output_type": "stream",
          "text": [
            "+--------+------+----+-----+-------+------+-------+--------------------+----------+\n",
            "|Survived|Pclass| Age|Parch|   Fare|Gender|Boarded|            features|prediction|\n",
            "+--------+------+----+-----+-------+------+-------+--------------------+----------+\n",
            "|       0|     3|22.0|    0|   7.25|   0.0|    0.0|(7,[1,2,4],[3.0,2...|         1|\n",
            "|       1|     3|26.0|    0|  7.925|   1.0|    0.0|[1.0,3.0,26.0,0.0...|         1|\n",
            "|       0|     3|35.0|    0|   8.05|   0.0|    0.0|(7,[1,2,4],[3.0,3...|         1|\n",
            "|       1|     3|27.0|    2|11.1333|   1.0|    0.0|[1.0,3.0,27.0,2.0...|         1|\n",
            "|       0|     3|20.0|    0|   8.05|   0.0|    0.0|(7,[1,2,4],[3.0,2...|         1|\n",
            "|       0|     3|14.0|    0| 7.8542|   1.0|    0.0|[0.0,3.0,14.0,0.0...|         1|\n",
            "|       0|     3|31.0|    0|   18.0|   1.0|    0.0|[0.0,3.0,31.0,0.0...|         1|\n",
            "|       1|     2|34.0|    0|   13.0|   0.0|    0.0|[1.0,2.0,34.0,0.0...|         1|\n",
            "|       1|     3|15.0|    0| 8.0292|   1.0|    2.0|[1.0,3.0,15.0,0.0...|         1|\n",
            "|       0|     3|21.0|    0|   8.05|   0.0|    0.0|(7,[1,2,4],[3.0,2...|         1|\n",
            "|       0|     3|18.0|    0|   18.0|   1.0|    0.0|[0.0,3.0,18.0,0.0...|         1|\n",
            "|       1|     3|14.0|    0|11.2417|   1.0|    1.0|[1.0,3.0,14.0,0.0...|         1|\n",
            "|       1|     3|19.0|    0| 7.8792|   1.0|    2.0|[1.0,3.0,19.0,0.0...|         1|\n",
            "|       0|     3|18.0|    0|   17.8|   1.0|    0.0|[0.0,3.0,18.0,0.0...|         1|\n",
            "|       0|     3|21.0|    0|    7.8|   0.0|    0.0|(7,[1,2,4],[3.0,2...|         1|\n",
            "|       1|     2|21.0|    0|   10.5|   1.0|    0.0|[1.0,2.0,21.0,0.0...|         1|\n",
            "|       0|     3|28.5|    0| 7.2292|   0.0|    1.0|[0.0,3.0,28.5,0.0...|         1|\n",
            "|       0|     3|22.0|    0| 7.2292|   0.0|    1.0|[0.0,3.0,22.0,0.0...|         1|\n",
            "|       1|     2|29.0|    0|   10.5|   1.0|    0.0|[1.0,2.0,29.0,0.0...|         1|\n",
            "|       0|     3|19.0|    0| 8.1583|   0.0|    0.0|(7,[1,2,4],[3.0,1...|         1|\n",
            "+--------+------+----+-----+-------+------+-------+--------------------+----------+\n",
            "only showing top 20 rows\n",
            "\n"
          ],
          "name": "stdout"
        }
      ]
    },
    {
      "cell_type": "markdown",
      "metadata": {
        "id": "A0YGy9DqetS9"
      },
      "source": [
        "# Day"
      ]
    },
    {
      "cell_type": "code",
      "metadata": {
        "id": "bYaavlVSfJqO"
      },
      "source": [
        "day_df = spark.read.csv('/content/Building-Machine-Learning-Models-in-Spark-2/datasets/day.csv',header=True,inferSchema=True)"
      ],
      "execution_count": null,
      "outputs": []
    },
    {
      "cell_type": "code",
      "metadata": {
        "colab": {
          "base_uri": "https://localhost:8080/"
        },
        "id": "bzFdvV9Jf7Fy",
        "outputId": "ee4ca5b5-752b-4a11-8b45-83167c361200"
      },
      "source": [
        "day_df.printSchema()"
      ],
      "execution_count": null,
      "outputs": [
        {
          "output_type": "stream",
          "text": [
            "root\n",
            " |-- instant: integer (nullable = true)\n",
            " |-- dteday: string (nullable = true)\n",
            " |-- season: integer (nullable = true)\n",
            " |-- yr: integer (nullable = true)\n",
            " |-- mnth: integer (nullable = true)\n",
            " |-- holiday: integer (nullable = true)\n",
            " |-- weekday: integer (nullable = true)\n",
            " |-- workingday: integer (nullable = true)\n",
            " |-- weathersit: integer (nullable = true)\n",
            " |-- temp: double (nullable = true)\n",
            " |-- atemp: double (nullable = true)\n",
            " |-- hum: double (nullable = true)\n",
            " |-- windspeed: double (nullable = true)\n",
            " |-- casual: integer (nullable = true)\n",
            " |-- registered: integer (nullable = true)\n",
            " |-- cnt: integer (nullable = true)\n",
            "\n"
          ],
          "name": "stdout"
        }
      ]
    },
    {
      "cell_type": "code",
      "metadata": {
        "id": "4nmwlORHgAqK"
      },
      "source": [
        "day_df= day_df.drop('instant', 'dteday','casual','registered')"
      ],
      "execution_count": null,
      "outputs": []
    },
    {
      "cell_type": "code",
      "metadata": {
        "colab": {
          "base_uri": "https://localhost:8080/"
        },
        "id": "Fr4Z3DQhgbZI",
        "outputId": "6459b0ee-498f-4686-efc9-ecc924a0ba90"
      },
      "source": [
        "day_df.show()"
      ],
      "execution_count": null,
      "outputs": [
        {
          "output_type": "stream",
          "text": [
            "+------+---+----+-------+-------+----------+----------+--------+--------+--------+---------+----+\n",
            "|season| yr|mnth|holiday|weekday|workingday|weathersit|    temp|   atemp|     hum|windspeed| cnt|\n",
            "+------+---+----+-------+-------+----------+----------+--------+--------+--------+---------+----+\n",
            "|     1|  0|   1|      0|      6|         0|         2|0.344167|0.363625|0.805833| 0.160446| 985|\n",
            "|     1|  0|   1|      0|      0|         0|         2|0.363478|0.353739|0.696087| 0.248539| 801|\n",
            "|     1|  0|   1|      0|      1|         1|         1|0.196364|0.189405|0.437273| 0.248309|1349|\n",
            "|     1|  0|   1|      0|      2|         1|         1|     0.2|0.212122|0.590435| 0.160296|1562|\n",
            "|     1|  0|   1|      0|      3|         1|         1|0.226957| 0.22927|0.436957|   0.1869|1600|\n",
            "|     1|  0|   1|      0|      4|         1|         1|0.204348|0.233209|0.518261|0.0895652|1606|\n",
            "|     1|  0|   1|      0|      5|         1|         2|0.196522|0.208839|0.498696| 0.168726|1510|\n",
            "|     1|  0|   1|      0|      6|         0|         2|   0.165|0.162254|0.535833| 0.266804| 959|\n",
            "|     1|  0|   1|      0|      0|         0|         1|0.138333|0.116175|0.434167|  0.36195| 822|\n",
            "|     1|  0|   1|      0|      1|         1|         1|0.150833|0.150888|0.482917| 0.223267|1321|\n",
            "|     1|  0|   1|      0|      2|         1|         2|0.169091|0.191464|0.686364| 0.122132|1263|\n",
            "|     1|  0|   1|      0|      3|         1|         1|0.172727|0.160473|0.599545| 0.304627|1162|\n",
            "|     1|  0|   1|      0|      4|         1|         1|   0.165|0.150883|0.470417|    0.301|1406|\n",
            "|     1|  0|   1|      0|      5|         1|         1| 0.16087|0.188413|0.537826| 0.126548|1421|\n",
            "|     1|  0|   1|      0|      6|         0|         2|0.233333|0.248112| 0.49875| 0.157963|1248|\n",
            "|     1|  0|   1|      0|      0|         0|         1|0.231667|0.234217| 0.48375| 0.188433|1204|\n",
            "|     1|  0|   1|      1|      1|         0|         2|0.175833|0.176771|  0.5375| 0.194017|1000|\n",
            "|     1|  0|   1|      0|      2|         1|         2|0.216667|0.232333|0.861667| 0.146775| 683|\n",
            "|     1|  0|   1|      0|      3|         1|         2|0.292174|0.298422|0.741739| 0.208317|1650|\n",
            "|     1|  0|   1|      0|      4|         1|         2|0.261667| 0.25505|0.538333| 0.195904|1927|\n",
            "+------+---+----+-------+-------+----------+----------+--------+--------+--------+---------+----+\n",
            "only showing top 20 rows\n",
            "\n"
          ],
          "name": "stdout"
        }
      ]
    },
    {
      "cell_type": "code",
      "metadata": {
        "id": "m295n5nfge3k"
      },
      "source": [
        "import seaborn as sns"
      ],
      "execution_count": null,
      "outputs": []
    },
    {
      "cell_type": "code",
      "metadata": {
        "colab": {
          "base_uri": "https://localhost:8080/"
        },
        "id": "zrTh1Vu4g1Rd",
        "outputId": "bccd304d-3119-4f6c-808e-adc0e19229d7"
      },
      "source": [
        "corrmat = day_df.toPandas().corr()\n",
        "plt.figure(figsize=(10,10))\n",
        "sns.set(font_scale=1.0)\n",
        "sns.heatmap(corrmat,vmax=.8,square=True,annot=True, fmt='.2f',cmap = 'winter')\n",
        "plt.show()"
      ],
      "execution_count": null,
      "outputs": [
        {
          "output_type": "display_data",
          "data": {
            "image/png": "[encoded data removed]",
            "text/plain": [
              "<Figure size 720x720 with 2 Axes>"
            ]
          },
          "metadata": {
            "tags": [],
            "needs_background": "light"
          }
        }
      ]
    },
    {
      "cell_type": "code",
      "metadata": {
        "id": "nSrnyCuhhpnq"
      },
      "source": [
        "featureCols = day_df.columns.copy()"
      ],
      "execution_count": null,
      "outputs": []
    },
    {
      "cell_type": "code",
      "metadata": {
        "id": "lDjHcoWhh50n"
      },
      "source": [
        "featureCols.remove('cnt')"
      ],
      "execution_count": null,
      "outputs": []
    },
    {
      "cell_type": "code",
      "metadata": {
        "colab": {
          "base_uri": "https://localhost:8080/"
        },
        "id": "VASHC-Fgh8-W",
        "outputId": "55f133ab-1853-4b88-e328-557f05100a7f"
      },
      "source": [
        "featureCols"
      ],
      "execution_count": null,
      "outputs": [
        {
          "output_type": "execute_result",
          "data": {
            "text/plain": [
              "['season',\n",
              " 'yr',\n",
              " 'mnth',\n",
              " 'holiday',\n",
              " 'weekday',\n",
              " 'workingday',\n",
              " 'weathersit',\n",
              " 'temp',\n",
              " 'atemp',\n",
              " 'hum',\n",
              " 'windspeed']"
            ]
          },
          "metadata": {
            "tags": []
          },
          "execution_count": 115
        }
      ]
    },
    {
      "cell_type": "code",
      "metadata": {
        "id": "9INgOgRXiEAm"
      },
      "source": [
        "assembler = VectorAssembler(inputCols=featureCols,outputCol='features')"
      ],
      "execution_count": null,
      "outputs": []
    },
    {
      "cell_type": "code",
      "metadata": {
        "colab": {
          "base_uri": "https://localhost:8080/"
        },
        "id": "LEqkOsfciM3R",
        "outputId": "963e046b-f265-4ace-9217-b8be1881f466"
      },
      "source": [
        "day_df_feat = assembler.transform(day_df)\n",
        "day_df_feat.show()"
      ],
      "execution_count": null,
      "outputs": [
        {
          "output_type": "stream",
          "text": [
            "+------+---+----+-------+-------+----------+----------+--------+--------+--------+---------+----+--------------------+\n",
            "|season| yr|mnth|holiday|weekday|workingday|weathersit|    temp|   atemp|     hum|windspeed| cnt|            features|\n",
            "+------+---+----+-------+-------+----------+----------+--------+--------+--------+---------+----+--------------------+\n",
            "|     1|  0|   1|      0|      6|         0|         2|0.344167|0.363625|0.805833| 0.160446| 985|[1.0,0.0,1.0,0.0,...|\n",
            "|     1|  0|   1|      0|      0|         0|         2|0.363478|0.353739|0.696087| 0.248539| 801|[1.0,0.0,1.0,0.0,...|\n",
            "|     1|  0|   1|      0|      1|         1|         1|0.196364|0.189405|0.437273| 0.248309|1349|[1.0,0.0,1.0,0.0,...|\n",
            "|     1|  0|   1|      0|      2|         1|         1|     0.2|0.212122|0.590435| 0.160296|1562|[1.0,0.0,1.0,0.0,...|\n",
            "|     1|  0|   1|      0|      3|         1|         1|0.226957| 0.22927|0.436957|   0.1869|1600|[1.0,0.0,1.0,0.0,...|\n",
            "|     1|  0|   1|      0|      4|         1|         1|0.204348|0.233209|0.518261|0.0895652|1606|[1.0,0.0,1.0,0.0,...|\n",
            "|     1|  0|   1|      0|      5|         1|         2|0.196522|0.208839|0.498696| 0.168726|1510|[1.0,0.0,1.0,0.0,...|\n",
            "|     1|  0|   1|      0|      6|         0|         2|   0.165|0.162254|0.535833| 0.266804| 959|[1.0,0.0,1.0,0.0,...|\n",
            "|     1|  0|   1|      0|      0|         0|         1|0.138333|0.116175|0.434167|  0.36195| 822|[1.0,0.0,1.0,0.0,...|\n",
            "|     1|  0|   1|      0|      1|         1|         1|0.150833|0.150888|0.482917| 0.223267|1321|[1.0,0.0,1.0,0.0,...|\n",
            "|     1|  0|   1|      0|      2|         1|         2|0.169091|0.191464|0.686364| 0.122132|1263|[1.0,0.0,1.0,0.0,...|\n",
            "|     1|  0|   1|      0|      3|         1|         1|0.172727|0.160473|0.599545| 0.304627|1162|[1.0,0.0,1.0,0.0,...|\n",
            "|     1|  0|   1|      0|      4|         1|         1|   0.165|0.150883|0.470417|    0.301|1406|[1.0,0.0,1.0,0.0,...|\n",
            "|     1|  0|   1|      0|      5|         1|         1| 0.16087|0.188413|0.537826| 0.126548|1421|[1.0,0.0,1.0,0.0,...|\n",
            "|     1|  0|   1|      0|      6|         0|         2|0.233333|0.248112| 0.49875| 0.157963|1248|[1.0,0.0,1.0,0.0,...|\n",
            "|     1|  0|   1|      0|      0|         0|         1|0.231667|0.234217| 0.48375| 0.188433|1204|[1.0,0.0,1.0,0.0,...|\n",
            "|     1|  0|   1|      1|      1|         0|         2|0.175833|0.176771|  0.5375| 0.194017|1000|[1.0,0.0,1.0,1.0,...|\n",
            "|     1|  0|   1|      0|      2|         1|         2|0.216667|0.232333|0.861667| 0.146775| 683|[1.0,0.0,1.0,0.0,...|\n",
            "|     1|  0|   1|      0|      3|         1|         2|0.292174|0.298422|0.741739| 0.208317|1650|[1.0,0.0,1.0,0.0,...|\n",
            "|     1|  0|   1|      0|      4|         1|         2|0.261667| 0.25505|0.538333| 0.195904|1927|[1.0,0.0,1.0,0.0,...|\n",
            "+------+---+----+-------+-------+----------+----------+--------+--------+--------+---------+----+--------------------+\n",
            "only showing top 20 rows\n",
            "\n"
          ],
          "name": "stdout"
        }
      ]
    },
    {
      "cell_type": "code",
      "metadata": {
        "id": "6yPuLCUhiknz"
      },
      "source": [
        "(trainingData,testData) = day_df_feat.randomSplit([0.8,0.2])"
      ],
      "execution_count": null,
      "outputs": []
    },
    {
      "cell_type": "code",
      "metadata": {
        "id": "ADIjKovNim2Z"
      },
      "source": [
        "lr = LinearRegression(maxIter=100,regParam=1.0,elasticNetParam=0.8,labelCol='cnt',featuresCol='features')"
      ],
      "execution_count": null,
      "outputs": []
    },
    {
      "cell_type": "code",
      "metadata": {
        "id": "BG8eBHMOi1SD"
      },
      "source": [
        "model = lr.fit(trainingData)"
      ],
      "execution_count": null,
      "outputs": []
    },
    {
      "cell_type": "code",
      "metadata": {
        "id": "JqUNSJOOi_au"
      },
      "source": [
        "predictions = model.transform(testData)"
      ],
      "execution_count": null,
      "outputs": []
    },
    {
      "cell_type": "code",
      "metadata": {
        "colab": {
          "base_uri": "https://localhost:8080/"
        },
        "id": "MzwzSDCLjEd2",
        "outputId": "16b71b71-8bba-4e46-f3f9-d523b49b3458"
      },
      "source": [
        "evaluator = RegressionEvaluator(labelCol='cnt',predictionCol='prediction',metricName='r2')\n",
        "r2 = evaluator.evaluate(predictions)\n",
        "print('Test R² score:', r2)"
      ],
      "execution_count": null,
      "outputs": [
        {
          "output_type": "stream",
          "text": [
            "Test R² score: 0.7800374885111547\n"
          ],
          "name": "stdout"
        }
      ]
    },
    {
      "cell_type": "code",
      "metadata": {
        "colab": {
          "base_uri": "https://localhost:8080/"
        },
        "id": "Cz2DVjEPjGcu",
        "outputId": "b950ce06-0d85-4f6d-e7ab-102501e37561"
      },
      "source": [
        "evaluator = RegressionEvaluator(labelCol='cnt',predictionCol='prediction',metricName='rmse')\n",
        "rmse = evaluator.evaluate(predictions)\n",
        "print('Test rmse score:', rmse)"
      ],
      "execution_count": null,
      "outputs": [
        {
          "output_type": "stream",
          "text": [
            "Test rmse score: 846.46413250088\n"
          ],
          "name": "stdout"
        }
      ]
    },
    {
      "cell_type": "code",
      "metadata": {
        "id": "2o5UYS1kjeWE"
      },
      "source": [
        "predict_df = predictions.select(\"cnt\",\"prediction\").toPandas()"
      ],
      "execution_count": null,
      "outputs": []
    },
    {
      "cell_type": "code",
      "metadata": {
        "colab": {
          "base_uri": "https://localhost:8080/"
        },
        "id": "oEchTfpRjiDu",
        "outputId": "3a1c0aea-59fc-4980-d88d-bdaf85f5da75"
      },
      "source": [
        "plt.figure(figsize=(15,6))\n",
        "plt.plot(predict_df['cnt'],label='Actual')\n",
        "plt.plot(predict_df['prediction'],label='Predicted')\n",
        "plt.ylabel('Cnt')\n",
        "plt.legend()\n",
        "plt.show()"
      ],
      "execution_count": null,
      "outputs": [
        {
          "output_type": "display_data",
          "data": {
            "image/png": "[encoded data removed]",
            "text/plain": [
              "<Figure size 1080x432 with 1 Axes>"
            ]
          },
          "metadata": {
            "tags": []
          }
        }
      ]
    },
    {
      "cell_type": "code",
      "metadata": {
        "id": "Tgouzy77j1rV"
      },
      "source": [
        "from pyspark.ml.feature import PCA"
      ],
      "execution_count": null,
      "outputs": []
    },
    {
      "cell_type": "code",
      "metadata": {
        "id": "c_dKbF0akP1x"
      },
      "source": [
        "pca = PCA(k=8,inputCol='features',outputCol='pcaFeatures')"
      ],
      "execution_count": null,
      "outputs": []
    },
    {
      "cell_type": "code",
      "metadata": {
        "id": "0hdQFlAJkh0s"
      },
      "source": [
        "pcatranform = pca.fit(day_df_feat)"
      ],
      "execution_count": null,
      "outputs": []
    },
    {
      "cell_type": "code",
      "metadata": {
        "colab": {
          "base_uri": "https://localhost:8080/"
        },
        "id": "avvLs0C1tc4L",
        "outputId": "36e38432-e792-4db2-c661-bdf2f742c746"
      },
      "source": [
        "pcatranform.explainedVariance"
      ],
      "execution_count": null,
      "outputs": [
        {
          "output_type": "execute_result",
          "data": {
            "text/plain": [
              "DenseVector([0.7093, 0.2227, 0.0201, 0.0171, 0.0137, 0.0119, 0.0028, 0.0014])"
            ]
          },
          "metadata": {
            "tags": []
          },
          "execution_count": 129
        }
      ]
    },
    {
      "cell_type": "code",
      "metadata": {
        "colab": {
          "base_uri": "https://localhost:8080/"
        },
        "id": "PJ6MUU3qkrc4",
        "outputId": "d095c061-a443-419b-9f23-4c40ee1e32c0"
      },
      "source": [
        "pcafeature = pcatranform.transform(day_df_feat).select('pcaFeatures')\n",
        "pcafeature.show()"
      ],
      "execution_count": null,
      "outputs": [
        {
          "output_type": "stream",
          "text": [
            "+--------------------+\n",
            "|         pcaFeatures|\n",
            "+--------------------+\n",
            "|[-1.2994341055128...|\n",
            "|[-1.2560740466291...|\n",
            "|[-1.2498374390477...|\n",
            "|[-1.2589193779944...|\n",
            "|[-1.2649515947305...|\n",
            "|[-1.2729147964420...|\n",
            "|[-1.2856192710391...|\n",
            "|[-1.2921840792479...|\n",
            "|[-1.2413300547201...|\n",
            "|[-1.2493942400509...|\n",
            "|[-1.2659441069314...|\n",
            "|[-1.2644614872243...|\n",
            "|[-1.2701427734999...|\n",
            "|[-1.2789252699700...|\n",
            "|[-1.2941105474080...|\n",
            "|[-1.2449798149026...|\n",
            "|[-1.2585149268013...|\n",
            "|[-1.2684139693571...|\n",
            "|[-1.2757020639233...|\n",
            "|[-1.2801173209444...|\n",
            "+--------------------+\n",
            "only showing top 20 rows\n",
            "\n"
          ],
          "name": "stdout"
        }
      ]
    },
    {
      "cell_type": "code",
      "metadata": {
        "colab": {
          "base_uri": "https://localhost:8080/"
        },
        "id": "04t5zP76tY4H",
        "outputId": "a33025f0-026f-45e5-ff3b-f9ec4f054430"
      },
      "source": [
        "plt.figure(figsize=(15,6))\n",
        "plt.plot(pcatranform.explainedVariance)\n",
        "plt.xlabel('Dimension')\n",
        "plt.ylabel('Explain Variance')\n",
        "plt.show()"
      ],
      "execution_count": null,
      "outputs": [
        {
          "output_type": "display_data",
          "data": {
            "image/png": "[encoded data removed]",
            "text/plain": [
              "<Figure size 1080x432 with 1 Axes>"
            ]
          },
          "metadata": {
            "tags": []
          }
        }
      ]
    },
    {
      "cell_type": "code",
      "metadata": {
        "id": "QSBSDJQ6uG1X"
      },
      "source": [
        "from pyspark.sql.functions import monotonically_increasing_id"
      ],
      "execution_count": null,
      "outputs": []
    },
    {
      "cell_type": "code",
      "metadata": {
        "id": "ymFLazOcuQ_5"
      },
      "source": [
        "pcafeature = pcafeature.withColumn('row_index',monotonically_increasing_id())\n",
        "day_df_feat = day_df_feat.withColumn('row_index',monotonically_increasing_id())"
      ],
      "execution_count": null,
      "outputs": []
    },
    {
      "cell_type": "code",
      "metadata": {
        "colab": {
          "base_uri": "https://localhost:8080/"
        },
        "id": "dbxs116Duv-V",
        "outputId": "bf5fe595-711d-45f5-b971-f6c4dffc1311"
      },
      "source": [
        "transformedData = pcafeature.join(day_df_feat,on=['row_index']).sort('row_index').select('cnt','pcaFeatures')\n",
        "transformedData.show()"
      ],
      "execution_count": null,
      "outputs": [
        {
          "output_type": "stream",
          "text": [
            "+----+--------------------+\n",
            "| cnt|         pcaFeatures|\n",
            "+----+--------------------+\n",
            "| 985|[-1.2994341055128...|\n",
            "| 801|[-1.2560740466291...|\n",
            "|1349|[-1.2498374390477...|\n",
            "|1562|[-1.2589193779944...|\n",
            "|1600|[-1.2649515947305...|\n",
            "|1606|[-1.2729147964420...|\n",
            "|1510|[-1.2856192710391...|\n",
            "| 959|[-1.2921840792479...|\n",
            "| 822|[-1.2413300547201...|\n",
            "|1321|[-1.2493942400509...|\n",
            "|1263|[-1.2659441069314...|\n",
            "|1162|[-1.2644614872243...|\n",
            "|1406|[-1.2701427734999...|\n",
            "|1421|[-1.2789252699700...|\n",
            "|1248|[-1.2941105474080...|\n",
            "|1204|[-1.2449798149026...|\n",
            "|1000|[-1.2585149268013...|\n",
            "| 683|[-1.2684139693571...|\n",
            "|1650|[-1.2757020639233...|\n",
            "|1927|[-1.2801173209444...|\n",
            "+----+--------------------+\n",
            "only showing top 20 rows\n",
            "\n"
          ],
          "name": "stdout"
        }
      ]
    },
    {
      "cell_type": "code",
      "metadata": {
        "id": "ESZ0_C6RvPNV"
      },
      "source": [
        "(pcatrainingData,pcatestData) = transformedData.randomSplit([0.8,0.2])"
      ],
      "execution_count": null,
      "outputs": []
    },
    {
      "cell_type": "code",
      "metadata": {
        "id": "f7mnXqnjvaNq"
      },
      "source": [
        "pcalr = LinearRegression(maxIter=100,regParam=1.0,elasticNetParam=0.8,labelCol='cnt',featuresCol='pcaFeatures')"
      ],
      "execution_count": null,
      "outputs": []
    },
    {
      "cell_type": "code",
      "metadata": {
        "id": "TzHznw_Tvde8"
      },
      "source": [
        "model = pcalr.fit(pcatrainingData)"
      ],
      "execution_count": null,
      "outputs": []
    },
    {
      "cell_type": "code",
      "metadata": {
        "id": "uhPFcD0evhMT"
      },
      "source": [
        "predictions = model.transform(pcatestData)"
      ],
      "execution_count": null,
      "outputs": []
    },
    {
      "cell_type": "code",
      "metadata": {
        "colab": {
          "base_uri": "https://localhost:8080/"
        },
        "id": "EYBXkYKZvmqw",
        "outputId": "6f3ff66c-c701-4a31-ba5d-5bdc4c380f08"
      },
      "source": [
        "evaluator = RegressionEvaluator(labelCol='cnt',predictionCol='prediction',metricName='r2')\n",
        "r2 = evaluator.evaluate(predictions)\n",
        "print('Test R² score:', r2)"
      ],
      "execution_count": null,
      "outputs": [
        {
          "output_type": "stream",
          "text": [
            "Test R² score: 0.7983592053762659\n"
          ],
          "name": "stdout"
        }
      ]
    },
    {
      "cell_type": "code",
      "metadata": {
        "colab": {
          "base_uri": "https://localhost:8080/"
        },
        "id": "I39w4da9vuhE",
        "outputId": "e70e5610-92e7-42b6-85ff-c9cdf11502bc"
      },
      "source": [
        "evaluator = RegressionEvaluator(labelCol='cnt',predictionCol='prediction',metricName='rmse')\n",
        "rmse = evaluator.evaluate(predictions)\n",
        "print('Test rmse score:', rmse)"
      ],
      "execution_count": null,
      "outputs": [
        {
          "output_type": "stream",
          "text": [
            "Test rmse score: 845.7527384091036\n"
          ],
          "name": "stdout"
        }
      ]
    },
    {
      "cell_type": "markdown",
      "metadata": {
        "id": "AEb3lT0IwMr0"
      },
      "source": [
        "# Movie"
      ]
    },
    {
      "cell_type": "code",
      "metadata": {
        "id": "PYsFizelwNdE"
      },
      "source": [
        "ratings_df = spark.read.csv('/content/Building-Machine-Learning-Models-in-Spark-2/datasets/movielens/ratings.csv',header=True,inferSchema=True)"
      ],
      "execution_count": null,
      "outputs": []
    },
    {
      "cell_type": "code",
      "metadata": {
        "colab": {
          "base_uri": "https://localhost:8080/"
        },
        "id": "r-Lb52DoazyK",
        "outputId": "282fc46e-c0fd-4eb0-a242-2527f1c436f7"
      },
      "source": [
        "ratings_df.show()"
      ],
      "execution_count": null,
      "outputs": [
        {
          "output_type": "stream",
          "text": [
            "+------+-------+------+----------+\n",
            "|userId|movieId|rating| timestamp|\n",
            "+------+-------+------+----------+\n",
            "|     1|     31|   2.5|1260759144|\n",
            "|     1|   1029|   3.0|1260759179|\n",
            "|     1|   1061|   3.0|1260759182|\n",
            "|     1|   1129|   2.0|1260759185|\n",
            "|     1|   1172|   4.0|1260759205|\n",
            "|     1|   1263|   2.0|1260759151|\n",
            "|     1|   1287|   2.0|1260759187|\n",
            "|     1|   1293|   2.0|1260759148|\n",
            "|     1|   1339|   3.5|1260759125|\n",
            "|     1|   1343|   2.0|1260759131|\n",
            "|     1|   1371|   2.5|1260759135|\n",
            "|     1|   1405|   1.0|1260759203|\n",
            "|     1|   1953|   4.0|1260759191|\n",
            "|     1|   2105|   4.0|1260759139|\n",
            "|     1|   2150|   3.0|1260759194|\n",
            "|     1|   2193|   2.0|1260759198|\n",
            "|     1|   2294|   2.0|1260759108|\n",
            "|     1|   2455|   2.5|1260759113|\n",
            "|     1|   2968|   1.0|1260759200|\n",
            "|     1|   3671|   3.0|1260759117|\n",
            "+------+-------+------+----------+\n",
            "only showing top 20 rows\n",
            "\n"
          ],
          "name": "stdout"
        }
      ]
    },
    {
      "cell_type": "code",
      "metadata": {
        "colab": {
          "base_uri": "https://localhost:8080/"
        },
        "id": "ILa_WKiHcqbR",
        "outputId": "6df322c2-542d-484a-fafc-65e0396f041b"
      },
      "source": [
        "ratings_df.printSchema()"
      ],
      "execution_count": null,
      "outputs": [
        {
          "output_type": "stream",
          "text": [
            "root\n",
            " |-- userId: integer (nullable = true)\n",
            " |-- movieId: integer (nullable = true)\n",
            " |-- rating: double (nullable = true)\n",
            " |-- timestamp: integer (nullable = true)\n",
            "\n"
          ],
          "name": "stdout"
        }
      ]
    },
    {
      "cell_type": "code",
      "metadata": {
        "id": "nyhq8rAhcuyJ"
      },
      "source": [
        "ratings_df = ratings_df.drop('timestamp')"
      ],
      "execution_count": null,
      "outputs": []
    },
    {
      "cell_type": "code",
      "metadata": {
        "colab": {
          "base_uri": "https://localhost:8080/",
          "height": 288
        },
        "id": "dhHEraCfdMs-",
        "outputId": "f9cfcffd-26c0-4361-aca9-8c24d1697d42"
      },
      "source": [
        "ratings_df.select('rating').toPandas().describe()"
      ],
      "execution_count": null,
      "outputs": [
        {
          "output_type": "execute_result",
          "data": {
            "text/html": [
              "<div>\n",
              "<style scoped>\n",
              "    .dataframe tbody tr th:only-of-type {\n",
              "        vertical-align: middle;\n",
              "    }\n",
              "\n",
              "    .dataframe tbody tr th {\n",
              "        vertical-align: top;\n",
              "    }\n",
              "\n",
              "    .dataframe thead th {\n",
              "        text-align: right;\n",
              "    }\n",
              "</style>\n",
              "<table border=\"1\" class=\"dataframe\">\n",
              "  <thead>\n",
              "    <tr style=\"text-align: right;\">\n",
              "      <th></th>\n",
              "      <th>rating</th>\n",
              "    </tr>\n",
              "  </thead>\n",
              "  <tbody>\n",
              "    <tr>\n",
              "      <th>count</th>\n",
              "      <td>100004.000000</td>\n",
              "    </tr>\n",
              "    <tr>\n",
              "      <th>mean</th>\n",
              "      <td>3.543608</td>\n",
              "    </tr>\n",
              "    <tr>\n",
              "      <th>std</th>\n",
              "      <td>1.058064</td>\n",
              "    </tr>\n",
              "    <tr>\n",
              "      <th>min</th>\n",
              "      <td>0.500000</td>\n",
              "    </tr>\n",
              "    <tr>\n",
              "      <th>25%</th>\n",
              "      <td>3.000000</td>\n",
              "    </tr>\n",
              "    <tr>\n",
              "      <th>50%</th>\n",
              "      <td>4.000000</td>\n",
              "    </tr>\n",
              "    <tr>\n",
              "      <th>75%</th>\n",
              "      <td>4.000000</td>\n",
              "    </tr>\n",
              "    <tr>\n",
              "      <th>max</th>\n",
              "      <td>5.000000</td>\n",
              "    </tr>\n",
              "  </tbody>\n",
              "</table>\n",
              "</div>"
            ],
            "text/plain": [
              "              rating\n",
              "count  100004.000000\n",
              "mean        3.543608\n",
              "std         1.058064\n",
              "min         0.500000\n",
              "25%         3.000000\n",
              "50%         4.000000\n",
              "75%         4.000000\n",
              "max         5.000000"
            ]
          },
          "metadata": {
            "tags": []
          },
          "execution_count": 174
        }
      ]
    },
    {
      "cell_type": "code",
      "metadata": {
        "id": "nvF5HMIMdgOH"
      },
      "source": [
        "(trainingData,testData) = ratings_df.randomSplit([0.8,0.2])"
      ],
      "execution_count": null,
      "outputs": []
    },
    {
      "cell_type": "code",
      "metadata": {
        "id": "7G8dwbSwg79j"
      },
      "source": [
        "from pyspark.ml.recommendation import ALS"
      ],
      "execution_count": null,
      "outputs": []
    },
    {
      "cell_type": "code",
      "metadata": {
        "id": "PuXJl2RuhHnr"
      },
      "source": [
        "als = ALS(maxIter=5,regParam=0.1,userCol='userId',itemCol='movieId',ratingCol='rating',coldStartStrategy='drop')"
      ],
      "execution_count": null,
      "outputs": []
    },
    {
      "cell_type": "code",
      "metadata": {
        "id": "mJrEE76zhf4h"
      },
      "source": [
        "model = als.fit(trainingData)"
      ],
      "execution_count": null,
      "outputs": []
    },
    {
      "cell_type": "code",
      "metadata": {
        "colab": {
          "base_uri": "https://localhost:8080/"
        },
        "id": "-EX_zsmbhn_L",
        "outputId": "edb4c2b4-7287-46fb-a145-61ba3098e174"
      },
      "source": [
        "predictions = model.transform(testData)\n",
        "predictions.show()"
      ],
      "execution_count": null,
      "outputs": [
        {
          "output_type": "stream",
          "text": [
            "+------+-------+------+----------+\n",
            "|userId|movieId|rating|prediction|\n",
            "+------+-------+------+----------+\n",
            "|   380|    463|   3.0| 3.1349494|\n",
            "|   534|    463|   4.0| 3.7292118|\n",
            "|    85|    471|   3.0|   2.61947|\n",
            "|   460|    471|   5.0| 3.9239805|\n",
            "|   440|    471|   3.0| 2.6203055|\n",
            "|   306|    471|   3.0| 3.6576607|\n",
            "|   309|    471|   4.0|  4.240414|\n",
            "|   607|    471|   4.0| 3.1942403|\n",
            "|    15|    471|   3.0| 2.5990868|\n",
            "|   380|    471|   4.0| 3.7151892|\n",
            "|    73|    471|   4.0| 3.8628638|\n",
            "|   509|    496|   3.0| 2.3360374|\n",
            "|   412|    833|   1.0| 2.5768213|\n",
            "|    52|   1088|   4.0| 3.3771102|\n",
            "|   500|   1088|   4.0| 3.5996304|\n",
            "|    19|   1088|   3.0| 3.0785532|\n",
            "|   607|   1088|   2.0| 3.1746027|\n",
            "|    15|   1088|   2.0| 1.5534276|\n",
            "|   262|   1088|   2.0| 1.7965276|\n",
            "|   358|   1088|   3.0| 3.3416553|\n",
            "+------+-------+------+----------+\n",
            "only showing top 20 rows\n",
            "\n"
          ],
          "name": "stdout"
        }
      ]
    },
    {
      "cell_type": "code",
      "metadata": {
        "colab": {
          "base_uri": "https://localhost:8080/",
          "height": 288
        },
        "id": "paT8GkfCh1xg",
        "outputId": "623a3b83-399e-40e2-a227-43d1bf3ef768"
      },
      "source": [
        "predictions.select('rating','prediction').toPandas().describe()"
      ],
      "execution_count": null,
      "outputs": [
        {
          "output_type": "execute_result",
          "data": {
            "text/html": [
              "<div>\n",
              "<style scoped>\n",
              "    .dataframe tbody tr th:only-of-type {\n",
              "        vertical-align: middle;\n",
              "    }\n",
              "\n",
              "    .dataframe tbody tr th {\n",
              "        vertical-align: top;\n",
              "    }\n",
              "\n",
              "    .dataframe thead th {\n",
              "        text-align: right;\n",
              "    }\n",
              "</style>\n",
              "<table border=\"1\" class=\"dataframe\">\n",
              "  <thead>\n",
              "    <tr style=\"text-align: right;\">\n",
              "      <th></th>\n",
              "      <th>rating</th>\n",
              "      <th>prediction</th>\n",
              "    </tr>\n",
              "  </thead>\n",
              "  <tbody>\n",
              "    <tr>\n",
              "      <th>count</th>\n",
              "      <td>19244.000000</td>\n",
              "      <td>19244.000000</td>\n",
              "    </tr>\n",
              "    <tr>\n",
              "      <th>mean</th>\n",
              "      <td>3.561370</td>\n",
              "      <td>3.383104</td>\n",
              "    </tr>\n",
              "    <tr>\n",
              "      <th>std</th>\n",
              "      <td>1.054263</td>\n",
              "      <td>0.747603</td>\n",
              "    </tr>\n",
              "    <tr>\n",
              "      <th>min</th>\n",
              "      <td>0.500000</td>\n",
              "      <td>-0.180335</td>\n",
              "    </tr>\n",
              "    <tr>\n",
              "      <th>25%</th>\n",
              "      <td>3.000000</td>\n",
              "      <td>2.940883</td>\n",
              "    </tr>\n",
              "    <tr>\n",
              "      <th>50%</th>\n",
              "      <td>4.000000</td>\n",
              "      <td>3.466455</td>\n",
              "    </tr>\n",
              "    <tr>\n",
              "      <th>75%</th>\n",
              "      <td>4.000000</td>\n",
              "      <td>3.908389</td>\n",
              "    </tr>\n",
              "    <tr>\n",
              "      <th>max</th>\n",
              "      <td>5.000000</td>\n",
              "      <td>5.472767</td>\n",
              "    </tr>\n",
              "  </tbody>\n",
              "</table>\n",
              "</div>"
            ],
            "text/plain": [
              "             rating    prediction\n",
              "count  19244.000000  19244.000000\n",
              "mean       3.561370      3.383104\n",
              "std        1.054263      0.747603\n",
              "min        0.500000     -0.180335\n",
              "25%        3.000000      2.940883\n",
              "50%        4.000000      3.466455\n",
              "75%        4.000000      3.908389\n",
              "max        5.000000      5.472767"
            ]
          },
          "metadata": {
            "tags": []
          },
          "execution_count": 180
        }
      ]
    },
    {
      "cell_type": "code",
      "metadata": {
        "id": "hYFkRjV1iIAy"
      },
      "source": [
        "from pyspark.ml.evaluation import RegressionEvaluator"
      ],
      "execution_count": null,
      "outputs": []
    },
    {
      "cell_type": "code",
      "metadata": {
        "colab": {
          "base_uri": "https://localhost:8080/"
        },
        "id": "BVtKkk9XiSM1",
        "outputId": "71fde764-fc22-43a5-f112-da361b7dd900"
      },
      "source": [
        "evaluator = RegressionEvaluator(metricName='rmse',labelCol='rating',predictionCol='prediction')\n",
        "rmse = evaluator.evaluate(predictions)\n",
        "rmse"
      ],
      "execution_count": null,
      "outputs": [
        {
          "output_type": "execute_result",
          "data": {
            "text/plain": [
              "0.9211295469810166"
            ]
          },
          "metadata": {
            "tags": []
          },
          "execution_count": 182
        }
      ]
    },
    {
      "cell_type": "code",
      "metadata": {
        "colab": {
          "base_uri": "https://localhost:8080/"
        },
        "id": "id4bf_N4jb0n",
        "outputId": "20437489-5a75-4a91-bfc0-d3c782de6599"
      },
      "source": [
        "userRecsAll = model.recommendForAllUsers(3)\n",
        "userRecsAll.show()"
      ],
      "execution_count": null,
      "outputs": [
        {
          "output_type": "stream",
          "text": [
            "+------+--------------------+\n",
            "|userId|     recommendations|\n",
            "+------+--------------------+\n",
            "|   471|[{67504, 5.148106...|\n",
            "|   463|[{67504, 5.146070...|\n",
            "|   496|[{3414, 5.823874}...|\n",
            "|   148|[{67504, 5.479235...|\n",
            "|   540|[{59684, 5.766154...|\n",
            "|   392|[{94466, 4.836390...|\n",
            "|   243|[{67504, 5.268352...|\n",
            "|   623|[{67504, 5.652256...|\n",
            "|    31|[{67504, 5.336488...|\n",
            "|   516|[{67504, 5.141999...|\n",
            "|   580|[{67504, 4.724992...|\n",
            "|   251|[{59684, 5.5433},...|\n",
            "|   451|[{6101, 5.6839437...|\n",
            "|    85|[{2106, 5.586305}...|\n",
            "|   137|[{26258, 5.515092...|\n",
            "|    65|[{67504, 6.100886...|\n",
            "|   458|[{59684, 4.745740...|\n",
            "|   481|[{67504, 6.102965...|\n",
            "|    53|[{2071, 5.760992}...|\n",
            "|   255|[{67504, 5.870124...|\n",
            "+------+--------------------+\n",
            "only showing top 20 rows\n",
            "\n"
          ],
          "name": "stdout"
        }
      ]
    },
    {
      "cell_type": "code",
      "metadata": {
        "colab": {
          "base_uri": "https://localhost:8080/"
        },
        "id": "RogxhiPtj_L-",
        "outputId": "146e3e06-72d0-4d96-c76c-98804f976684"
      },
      "source": [
        "movieRecsAll = model.recommendForAllItems(3)\n",
        "movieRecsAll.show()"
      ],
      "execution_count": null,
      "outputs": [
        {
          "output_type": "stream",
          "text": [
            "+-------+--------------------+\n",
            "|movieId|     recommendations|\n",
            "+-------+--------------------+\n",
            "|   1580|[{145, 5.0294185}...|\n",
            "|   5300|[{465, 5.0327845}...|\n",
            "|   6620|[{71, 4.7176347},...|\n",
            "|   7340|[{123, 4.460951},...|\n",
            "|  54190|[{545, 4.194389},...|\n",
            "|    471|[{401, 5.0946927}...|\n",
            "|   1591|[{98, 4.016777}, ...|\n",
            "|   1342|[{145, 4.5282493}...|\n",
            "|   2122|[{351, 3.821097},...|\n",
            "|   2142|[{543, 4.6782527}...|\n",
            "|   7982|[{113, 4.9157104}...|\n",
            "|  44022|[{46, 4.958559}, ...|\n",
            "| 141422|[{113, 3.469968},...|\n",
            "|    463|[{113, 4.992121},...|\n",
            "|    833|[{296, 4.2681117}...|\n",
            "|   5803|[{156, 2.7376513}...|\n",
            "|   7833|[{113, 4.786275},...|\n",
            "| 160563|[{145, 4.2436013}...|\n",
            "|   3794|[{145, 5.243506},...|\n",
            "|  40574|[{473, 3.4481316}...|\n",
            "+-------+--------------------+\n",
            "only showing top 20 rows\n",
            "\n"
          ],
          "name": "stdout"
        }
      ]
    },
    {
      "cell_type": "code",
      "metadata": {
        "id": "Sm8rba1KkSqp"
      },
      "source": [
        "from pyspark.sql.types import IntegerType"
      ],
      "execution_count": null,
      "outputs": []
    },
    {
      "cell_type": "code",
      "metadata": {
        "colab": {
          "base_uri": "https://localhost:8080/"
        },
        "id": "3d-GHr3LkXmh",
        "outputId": "18091c5a-8a61-4687-b736-8cb1f845ab8a"
      },
      "source": [
        "userList = [148,463,267]\n",
        "usersDF = spark.createDataFrame(userList,IntegerType()).toDF('userId')\n",
        "usersDF.show()"
      ],
      "execution_count": null,
      "outputs": [
        {
          "output_type": "stream",
          "text": [
            "+------+\n",
            "|userId|\n",
            "+------+\n",
            "|   148|\n",
            "|   463|\n",
            "|   267|\n",
            "+------+\n",
            "\n"
          ],
          "name": "stdout"
        }
      ]
    },
    {
      "cell_type": "code",
      "metadata": {
        "colab": {
          "base_uri": "https://localhost:8080/"
        },
        "id": "w4SUeO_ckuuP",
        "outputId": "31878f4f-6d78-4dc0-92ec-84ffcff2ab76"
      },
      "source": [
        "userRecs = model.recommendForUserSubset(usersDF,5)\n",
        "userRecs.show()"
      ],
      "execution_count": null,
      "outputs": [
        {
          "output_type": "stream",
          "text": [
            "+------+--------------------+\n",
            "|userId|     recommendations|\n",
            "+------+--------------------+\n",
            "|   148|[{67504, 5.479235...|\n",
            "|   463|[{83318, 5.146070...|\n",
            "|   267|[{59684, 5.437618...|\n",
            "+------+--------------------+\n",
            "\n"
          ],
          "name": "stdout"
        }
      ]
    },
    {
      "cell_type": "code",
      "metadata": {
        "colab": {
          "base_uri": "https://localhost:8080/"
        },
        "id": "iDVxIfeOlFkb",
        "outputId": "19964b92-1955-42d6-86a2-3d5ab96b5f88"
      },
      "source": [
        "userMovieList = userRecs.filter(userRecs.userId == 148).select('recommendations')\n",
        "userMovieList.show()"
      ],
      "execution_count": null,
      "outputs": [
        {
          "output_type": "stream",
          "text": [
            "+--------------------+\n",
            "|     recommendations|\n",
            "+--------------------+\n",
            "|[{67504, 5.479235...|\n",
            "+--------------------+\n",
            "\n"
          ],
          "name": "stdout"
        }
      ]
    },
    {
      "cell_type": "code",
      "metadata": {
        "colab": {
          "base_uri": "https://localhost:8080/"
        },
        "id": "qo5wbtKElbyC",
        "outputId": "eeed9054-f61a-47b0-fb2b-9b4ed89dc335"
      },
      "source": [
        "movieList = userMovieList.collect()[0].recommendations\n",
        "movieList"
      ],
      "execution_count": null,
      "outputs": [
        {
          "output_type": "execute_result",
          "data": {
            "text/plain": [
              "[Row(movieId=67504, rating=5.479235649108887),\n",
              " Row(movieId=83318, rating=5.479235649108887),\n",
              " Row(movieId=83411, rating=5.479235649108887),\n",
              " Row(movieId=83359, rating=5.479235649108887),\n",
              " Row(movieId=3414, rating=5.252651214599609)]"
            ]
          },
          "metadata": {
            "tags": []
          },
          "execution_count": 189
        }
      ]
    },
    {
      "cell_type": "code",
      "metadata": {
        "colab": {
          "base_uri": "https://localhost:8080/"
        },
        "id": "nuJNMEAMlok3",
        "outputId": "f8fded32-5007-4675-eaf5-79dbbc5b4866"
      },
      "source": [
        "moviesDF = spark.createDataFrame(movieList)\n",
        "moviesDF.show()"
      ],
      "execution_count": null,
      "outputs": [
        {
          "output_type": "stream",
          "text": [
            "+-------+-----------------+\n",
            "|movieId|           rating|\n",
            "+-------+-----------------+\n",
            "|  67504|5.479235649108887|\n",
            "|  83318|5.479235649108887|\n",
            "|  83411|5.479235649108887|\n",
            "|  83359|5.479235649108887|\n",
            "|   3414|5.252651214599609|\n",
            "+-------+-----------------+\n",
            "\n"
          ],
          "name": "stdout"
        }
      ]
    },
    {
      "cell_type": "code",
      "metadata": {
        "id": "9dzbjt2Ll4zr"
      },
      "source": [
        "movie_df = spark.read.csv('/content/Building-Machine-Learning-Models-in-Spark-2/datasets/movielens/movies.csv',header=True,inferSchema=True)"
      ],
      "execution_count": null,
      "outputs": []
    },
    {
      "cell_type": "code",
      "metadata": {
        "colab": {
          "base_uri": "https://localhost:8080/"
        },
        "id": "efmQUyK-mBVf",
        "outputId": "b0e07131-7530-43f4-9bc6-f719b1bbb482"
      },
      "source": [
        "recommmendedMovies = movie_df.join(moviesDF, on=['movieID']).orderBy('rating',ascending=False).select('title','genres','rating')\n",
        "recommmendedMovies.show()"
      ],
      "execution_count": null,
      "outputs": [
        {
          "output_type": "stream",
          "text": [
            "+--------------------+-----------------+-----------------+\n",
            "|               title|           genres|           rating|\n",
            "+--------------------+-----------------+-----------------+\n",
            "|Play House, The (...|           Comedy|5.479235649108887|\n",
            "|         Cops (1922)|           Comedy|5.479235649108887|\n",
            "|Land of Silence a...|      Documentary|5.479235649108887|\n",
            "|    Goat, The (1921)|           Comedy|5.479235649108887|\n",
            "|Love Is a Many-Sp...|Drama|Romance|War|5.252651214599609|\n",
            "+--------------------+-----------------+-----------------+\n",
            "\n"
          ],
          "name": "stdout"
        }
      ]
    },
    {
      "cell_type": "code",
      "metadata": {
        "id": "eU5T4YzOmpdK"
      },
      "source": [
        "from pyspark.sql.types import IntegerType\n",
        "def getRecommendationsForUser(userId,numRecs):\n",
        "  usersDF = spark.createDataFrame([userId],IntegerType()).toDF('userId')\n",
        "  userRecs = model.recommendForUserSubset(usersDF,numRecs)\n",
        "  movieList = userMovieList.collect()[0].recommendations\n",
        "  moviesDF = spark.createDataFrame(movieList)\n",
        "  recommmendedMovies = movie_df.join(moviesDF, on=['movieID']).orderBy('rating',ascending=False).select('title','genres','rating')\n",
        "  return recommmendedMovies\n"
      ],
      "execution_count": null,
      "outputs": []
    },
    {
      "cell_type": "code",
      "metadata": {
        "colab": {
          "base_uri": "https://localhost:8080/"
        },
        "id": "NV42JHbbnHBP",
        "outputId": "4c540744-9ee1-4867-ecf8-c03f4db8711d"
      },
      "source": [
        "getRecommendationsForUser(4,2).show()"
      ],
      "execution_count": null,
      "outputs": [
        {
          "output_type": "stream",
          "text": [
            "+--------------------+-----------------+-----------------+\n",
            "|               title|           genres|           rating|\n",
            "+--------------------+-----------------+-----------------+\n",
            "|Play House, The (...|           Comedy|5.479235649108887|\n",
            "|         Cops (1922)|           Comedy|5.479235649108887|\n",
            "|Land of Silence a...|      Documentary|5.479235649108887|\n",
            "|    Goat, The (1921)|           Comedy|5.479235649108887|\n",
            "|Love Is a Many-Sp...|Drama|Romance|War|5.252651214599609|\n",
            "+--------------------+-----------------+-----------------+\n",
            "\n"
          ],
          "name": "stdout"
        }
      ]
    },
    {
      "cell_type": "markdown",
      "metadata": {
        "id": "-HT49rLhn5cB"
      },
      "source": [
        "# Bands"
      ]
    },
    {
      "cell_type": "code",
      "metadata": {
        "id": "8iBa3CGinTYX"
      },
      "source": [
        "userartist_df = spark.read.csv('/content/Building-Machine-Learning-Models-in-Spark-2/datasets/lastfm/user_artists.dat',header=True,sep='\\t',inferSchema=True)"
      ],
      "execution_count": null,
      "outputs": []
    },
    {
      "cell_type": "code",
      "metadata": {
        "colab": {
          "base_uri": "https://localhost:8080/"
        },
        "id": "XvUVkNxYoZCw",
        "outputId": "3b006f2b-61cd-46da-a5bb-fcc361bd35c1"
      },
      "source": [
        "userartist_df.show()"
      ],
      "execution_count": null,
      "outputs": [
        {
          "output_type": "stream",
          "text": [
            "+------+--------+------+\n",
            "|userID|artistID|weight|\n",
            "+------+--------+------+\n",
            "|     2|      51| 13883|\n",
            "|     2|      52| 11690|\n",
            "|     2|      53| 11351|\n",
            "|     2|      54| 10300|\n",
            "|     2|      55|  8983|\n",
            "|     2|      56|  6152|\n",
            "|     2|      57|  5955|\n",
            "|     2|      58|  4616|\n",
            "|     2|      59|  4337|\n",
            "|     2|      60|  4147|\n",
            "|     2|      61|  3923|\n",
            "|     2|      62|  3782|\n",
            "|     2|      63|  3735|\n",
            "|     2|      64|  3644|\n",
            "|     2|      65|  3579|\n",
            "|     2|      66|  3312|\n",
            "|     2|      67|  3301|\n",
            "|     2|      68|  2927|\n",
            "|     2|      69|  2720|\n",
            "|     2|      70|  2686|\n",
            "+------+--------+------+\n",
            "only showing top 20 rows\n",
            "\n"
          ],
          "name": "stdout"
        }
      ]
    },
    {
      "cell_type": "code",
      "metadata": {
        "colab": {
          "base_uri": "https://localhost:8080/",
          "height": 288
        },
        "id": "BNciSmjaodS2",
        "outputId": "a0170d14-c790-469a-e4e8-743deb281101"
      },
      "source": [
        "userartist_df.toPandas().describe()"
      ],
      "execution_count": null,
      "outputs": [
        {
          "output_type": "execute_result",
          "data": {
            "text/html": [
              "<div>\n",
              "<style scoped>\n",
              "    .dataframe tbody tr th:only-of-type {\n",
              "        vertical-align: middle;\n",
              "    }\n",
              "\n",
              "    .dataframe tbody tr th {\n",
              "        vertical-align: top;\n",
              "    }\n",
              "\n",
              "    .dataframe thead th {\n",
              "        text-align: right;\n",
              "    }\n",
              "</style>\n",
              "<table border=\"1\" class=\"dataframe\">\n",
              "  <thead>\n",
              "    <tr style=\"text-align: right;\">\n",
              "      <th></th>\n",
              "      <th>userID</th>\n",
              "      <th>artistID</th>\n",
              "      <th>weight</th>\n",
              "    </tr>\n",
              "  </thead>\n",
              "  <tbody>\n",
              "    <tr>\n",
              "      <th>count</th>\n",
              "      <td>92834.000000</td>\n",
              "      <td>92834.000000</td>\n",
              "      <td>92834.00000</td>\n",
              "    </tr>\n",
              "    <tr>\n",
              "      <th>mean</th>\n",
              "      <td>1037.010481</td>\n",
              "      <td>3331.123145</td>\n",
              "      <td>745.24393</td>\n",
              "    </tr>\n",
              "    <tr>\n",
              "      <th>std</th>\n",
              "      <td>610.870436</td>\n",
              "      <td>4383.590502</td>\n",
              "      <td>3751.32208</td>\n",
              "    </tr>\n",
              "    <tr>\n",
              "      <th>min</th>\n",
              "      <td>2.000000</td>\n",
              "      <td>1.000000</td>\n",
              "      <td>1.00000</td>\n",
              "    </tr>\n",
              "    <tr>\n",
              "      <th>25%</th>\n",
              "      <td>502.000000</td>\n",
              "      <td>436.000000</td>\n",
              "      <td>107.00000</td>\n",
              "    </tr>\n",
              "    <tr>\n",
              "      <th>50%</th>\n",
              "      <td>1029.000000</td>\n",
              "      <td>1246.000000</td>\n",
              "      <td>260.00000</td>\n",
              "    </tr>\n",
              "    <tr>\n",
              "      <th>75%</th>\n",
              "      <td>1568.000000</td>\n",
              "      <td>4350.000000</td>\n",
              "      <td>614.00000</td>\n",
              "    </tr>\n",
              "    <tr>\n",
              "      <th>max</th>\n",
              "      <td>2100.000000</td>\n",
              "      <td>18745.000000</td>\n",
              "      <td>352698.00000</td>\n",
              "    </tr>\n",
              "  </tbody>\n",
              "</table>\n",
              "</div>"
            ],
            "text/plain": [
              "             userID      artistID        weight\n",
              "count  92834.000000  92834.000000   92834.00000\n",
              "mean    1037.010481   3331.123145     745.24393\n",
              "std      610.870436   4383.590502    3751.32208\n",
              "min        2.000000      1.000000       1.00000\n",
              "25%      502.000000    436.000000     107.00000\n",
              "50%     1029.000000   1246.000000     260.00000\n",
              "75%     1568.000000   4350.000000     614.00000\n",
              "max     2100.000000  18745.000000  352698.00000"
            ]
          },
          "metadata": {
            "tags": []
          },
          "execution_count": 202
        }
      ]
    },
    {
      "cell_type": "code",
      "metadata": {
        "id": "OC10xfRxo1iA"
      },
      "source": [
        "from pyspark.sql.functions import stddev,mean,col"
      ],
      "execution_count": null,
      "outputs": []
    },
    {
      "cell_type": "code",
      "metadata": {
        "id": "hfqBHwqho_pg"
      },
      "source": [
        "df = userartist_df.select(mean('weight').alias('mean_weight'),\n",
        "                          stddev('weight').alias('stddev_weight'))\\\n",
        "                          .crossJoin(userartist_df)\\\n",
        "                          .withColumn('weight_scaled',\n",
        "                                      (col('weight')-col('mean_weight'))/col('stddev_weight'))"
      ],
      "execution_count": null,
      "outputs": []
    },
    {
      "cell_type": "code",
      "metadata": {
        "colab": {
          "base_uri": "https://localhost:8080/"
        },
        "id": "lKfdHvysq6TK",
        "outputId": "93725721-d88a-4f1e-e6f0-f8be2932dd0d"
      },
      "source": [
        "df.show()"
      ],
      "execution_count": null,
      "outputs": [
        {
          "output_type": "stream",
          "text": [
            "+-----------------+------------------+------+--------+------+------------------+\n",
            "|      mean_weight|     stddev_weight|userID|artistID|weight|     weight_scaled|\n",
            "+-----------------+------------------+------+--------+------+------------------+\n",
            "|745.2439300256372|3751.3220803876798|     2|      51| 13883|3.5021669130091446|\n",
            "|745.2439300256372|3751.3220803876798|     2|      52| 11690|2.9175730143766483|\n",
            "|745.2439300256372|3751.3220803876798|     2|      53| 11351| 2.827204874095565|\n",
            "|745.2439300256372|3751.3220803876798|     2|      54| 10300|2.5470369819556864|\n",
            "|745.2439300256372|3751.3220803876798|     2|      55|  8983| 2.195960755553955|\n",
            "|745.2439300256372|3751.3220803876798|     2|      56|  6152| 1.441293483767089|\n",
            "|745.2439300256372|3751.3220803876798|     2|      57|  5955|1.3887786647836864|\n",
            "|745.2439300256372|3751.3220803876798|     2|      58|  4616|1.0318378393076661|\n",
            "|745.2439300256372|3751.3220803876798|     2|      59|  4337|0.9574640601382788|\n",
            "|745.2439300256372|3751.3220803876798|     2|      60|  4147|0.9068152499512409|\n",
            "|745.2439300256372|3751.3220803876798|     2|      61|  3923| 0.847102968467575|\n",
            "|745.2439300256372|3751.3220803876798|     2|      62|  3782|0.8095162198550889|\n",
            "|745.2439300256372|3751.3220803876798|     2|      63|  3735| 0.796987303650927|\n",
            "|745.2439300256372|3751.3220803876798|     2|      64|  3644|0.7727291892981877|\n",
            "|745.2439300256372|3751.3220803876798|     2|      65|  3579|0.7554019647605168|\n",
            "|745.2439300256372|3751.3220803876798|     2|      66|  3312|0.6842270578134687|\n",
            "|745.2439300256372|3751.3220803876798|     2|      67|  3301|0.6812947582763244|\n",
            "|745.2439300256372|3751.3220803876798|     2|      68|  2927| 0.581596574013418|\n",
            "|745.2439300256372|3751.3220803876798|     2|      69|  2720|0.5264160281780662|\n",
            "|745.2439300256372|3751.3220803876798|     2|      70|  2686|0.5173525568814383|\n",
            "+-----------------+------------------+------+--------+------+------------------+\n",
            "only showing top 20 rows\n",
            "\n"
          ],
          "name": "stdout"
        }
      ]
    },
    {
      "cell_type": "code",
      "metadata": {
        "id": "bMge1PrjsB80"
      },
      "source": [
        "from pyspark.ml.feature import StandardScaler"
      ],
      "execution_count": null,
      "outputs": []
    },
    {
      "cell_type": "code",
      "metadata": {
        "colab": {
          "base_uri": "https://localhost:8080/"
        },
        "id": "jJE7OqKfsUxs",
        "outputId": "07c4aaff-2e92-442a-fb10-5a4bb45320b9"
      },
      "source": [
        "vectdf = VectorAssembler(inputCols=[\"weight\"],outputCol=\"features\").transform(userartist_df)\n",
        "vectdf.show()"
      ],
      "execution_count": null,
      "outputs": [
        {
          "output_type": "stream",
          "text": [
            "+------+--------+------+---------+\n",
            "|userID|artistID|weight| features|\n",
            "+------+--------+------+---------+\n",
            "|     2|      51| 13883|[13883.0]|\n",
            "|     2|      52| 11690|[11690.0]|\n",
            "|     2|      53| 11351|[11351.0]|\n",
            "|     2|      54| 10300|[10300.0]|\n",
            "|     2|      55|  8983| [8983.0]|\n",
            "|     2|      56|  6152| [6152.0]|\n",
            "|     2|      57|  5955| [5955.0]|\n",
            "|     2|      58|  4616| [4616.0]|\n",
            "|     2|      59|  4337| [4337.0]|\n",
            "|     2|      60|  4147| [4147.0]|\n",
            "|     2|      61|  3923| [3923.0]|\n",
            "|     2|      62|  3782| [3782.0]|\n",
            "|     2|      63|  3735| [3735.0]|\n",
            "|     2|      64|  3644| [3644.0]|\n",
            "|     2|      65|  3579| [3579.0]|\n",
            "|     2|      66|  3312| [3312.0]|\n",
            "|     2|      67|  3301| [3301.0]|\n",
            "|     2|      68|  2927| [2927.0]|\n",
            "|     2|      69|  2720| [2720.0]|\n",
            "|     2|      70|  2686| [2686.0]|\n",
            "+------+--------+------+---------+\n",
            "only showing top 20 rows\n",
            "\n"
          ],
          "name": "stdout"
        }
      ]
    },
    {
      "cell_type": "code",
      "metadata": {
        "colab": {
          "base_uri": "https://localhost:8080/"
        },
        "id": "zvHOrJVwsEUS",
        "outputId": "a76b2416-423c-4e06-8a22-0e5a98995e2e"
      },
      "source": [
        "stand = StandardScaler(inputCol='features',outputCol='weight_scaled',withStd=True,withMean=True).fit(vectdf).transform(vectdf)\n",
        "stand.show()"
      ],
      "execution_count": null,
      "outputs": [
        {
          "output_type": "stream",
          "text": [
            "+------+--------+------+---------+--------------------+\n",
            "|userID|artistID|weight| features|       weight_scaled|\n",
            "+------+--------+------+---------+--------------------+\n",
            "|     2|      51| 13883|[13883.0]|[3.5021669130091455]|\n",
            "|     2|      52| 11690|[11690.0]| [2.917573014376649]|\n",
            "|     2|      53| 11351|[11351.0]|[2.8272048740955658]|\n",
            "|     2|      54| 10300|[10300.0]|[2.5470369819556873]|\n",
            "|     2|      55|  8983| [8983.0]|[2.1959607555539553]|\n",
            "|     2|      56|  6152| [6152.0]|[1.4412934837670894]|\n",
            "|     2|      57|  5955| [5955.0]| [1.388778664783687]|\n",
            "|     2|      58|  4616| [4616.0]|[1.0318378393076668]|\n",
            "|     2|      59|  4337| [4337.0]|[0.9574640601382793]|\n",
            "|     2|      60|  4147| [4147.0]|[0.9068152499512414]|\n",
            "|     2|      61|  3923| [3923.0]|[0.8471029684675756]|\n",
            "|     2|      62|  3782| [3782.0]|[0.8095162198550895]|\n",
            "|     2|      63|  3735| [3735.0]|[0.7969873036509275]|\n",
            "|     2|      64|  3644| [3644.0]|[0.7727291892981882]|\n",
            "|     2|      65|  3579| [3579.0]|[0.7554019647605174]|\n",
            "|     2|      66|  3312| [3312.0]|[0.6842270578134693]|\n",
            "|     2|      67|  3301| [3301.0]|[0.6812947582763249]|\n",
            "|     2|      68|  2927| [2927.0]|[0.5815965740134186]|\n",
            "|     2|      69|  2720| [2720.0]|[0.5264160281780667]|\n",
            "|     2|      70|  2686| [2686.0]|[0.5173525568814389]|\n",
            "+------+--------+------+---------+--------------------+\n",
            "only showing top 20 rows\n",
            "\n"
          ],
          "name": "stdout"
        }
      ]
    },
    {
      "cell_type": "code",
      "metadata": {
        "id": "FM0_oQ0mswt6"
      },
      "source": [
        "(trainingData,testData) = df.randomSplit([0.8,0.2])"
      ],
      "execution_count": null,
      "outputs": []
    },
    {
      "cell_type": "code",
      "metadata": {
        "id": "C7kjI0XYtC6P"
      },
      "source": [
        "als = ALS(maxIter=10,regParam=0.1,userCol='userID',itemCol='artistID',implicitPrefs=True,ratingCol='weight_scaled',coldStartStrategy='drop')"
      ],
      "execution_count": null,
      "outputs": []
    },
    {
      "cell_type": "code",
      "metadata": {
        "id": "EagOTeOMtPrD"
      },
      "source": [
        "model = als.fit(trainingData)"
      ],
      "execution_count": null,
      "outputs": []
    },
    {
      "cell_type": "code",
      "metadata": {
        "colab": {
          "base_uri": "https://localhost:8080/"
        },
        "id": "VsEU_y0BtYlJ",
        "outputId": "abcbbbde-e678-4dcc-9693-f2a16f5178b8"
      },
      "source": [
        "predictions = model.transform(testData)\n",
        "predictions.show()"
      ],
      "execution_count": null,
      "outputs": [
        {
          "output_type": "stream",
          "text": [
            "+-----------------+------------------+------+--------+------+--------------------+-------------+\n",
            "|      mean_weight|     stddev_weight|userID|artistID|weight|       weight_scaled|   prediction|\n",
            "+-----------------+------------------+------+--------+------+--------------------+-------------+\n",
            "|745.2439300256372|3751.3220803876798|     3|     148|    66| -0.1810678783292958|          0.0|\n",
            "|745.2439300256372|3751.3220803876798|  1280|     463|   316|-0.11442470703056161|  0.012210684|\n",
            "|745.2439300256372|3751.3220803876798|  1692|     463|  1018| 0.07270931797628395| -0.002507037|\n",
            "|745.2439300256372|3751.3220803876798|  2027|     471|   163|-0.15521032786538694| -4.902607E-4|\n",
            "|745.2439300256372|3751.3220803876798|   770|     471|   239|-0.13495080379057173|  9.927623E-4|\n",
            "|745.2439300256372|3751.3220803876798|  1988|     471|    83|-0.17653614268098186|-8.3007297E-4|\n",
            "|745.2439300256372|3751.3220803876798|   946|     471|  4061|  0.8838899990244763| 0.0078280205|\n",
            "|745.2439300256372|3751.3220803876798|  1283|     471|  1081| 0.08950339714356496|   0.01547259|\n",
            "|745.2439300256372|3751.3220803876798|   352|     471|    75|-0.17866872416254137| -0.001862223|\n",
            "|745.2439300256372|3751.3220803876798|   899|     471|  1104| 0.09563456890304851| 4.9787934E-4|\n",
            "|745.2439300256372|3751.3220803876798|  1011|     471|   337|-0.10882668064146794| 0.0047164285|\n",
            "|745.2439300256372|3751.3220803876798|  1741|     471|   185| -0.1493457287910983|  6.456475E-4|\n",
            "|745.2439300256372|3751.3220803876798|  1387|     471|   178|-0.15121173758746287|          0.0|\n",
            "|745.2439300256372|3751.3220803876798|   198|     496|   496|  -0.066441623695473| 0.0057116416|\n",
            "|745.2439300256372|3751.3220803876798|   800|    1342|   324|-0.11229212554900211|  0.014719814|\n",
            "|745.2439300256372|3751.3220803876798|  1247|    1580|   239|-0.13495080379057173|  0.025128368|\n",
            "|745.2439300256372|3751.3220803876798|  1828|    1580|   409| -0.0896334473074325|  0.021542154|\n",
            "|745.2439300256372|3751.3220803876798|  1600|    1580|   160|-0.15601004592097173|  0.017720744|\n",
            "|745.2439300256372|3751.3220803876798|   130|    1580|   224| -0.1389493940684958|  0.007745596|\n",
            "|745.2439300256372|3751.3220803876798|  1607|    1580|   239|-0.13495080379057173| 0.0076866793|\n",
            "+-----------------+------------------+------+--------+------+--------------------+-------------+\n",
            "only showing top 20 rows\n",
            "\n"
          ],
          "name": "stdout"
        }
      ]
    },
    {
      "cell_type": "code",
      "metadata": {
        "colab": {
          "base_uri": "https://localhost:8080/",
          "height": 288
        },
        "id": "ponJ3Tk4tiue",
        "outputId": "1f692b99-85a3-4025-8d5c-749d6937f293"
      },
      "source": [
        "predictions.select('weight_scaled','prediction').toPandas().describe()"
      ],
      "execution_count": null,
      "outputs": [
        {
          "output_type": "execute_result",
          "data": {
            "text/html": [
              "<div>\n",
              "<style scoped>\n",
              "    .dataframe tbody tr th:only-of-type {\n",
              "        vertical-align: middle;\n",
              "    }\n",
              "\n",
              "    .dataframe tbody tr th {\n",
              "        vertical-align: top;\n",
              "    }\n",
              "\n",
              "    .dataframe thead th {\n",
              "        text-align: right;\n",
              "    }\n",
              "</style>\n",
              "<table border=\"1\" class=\"dataframe\">\n",
              "  <thead>\n",
              "    <tr style=\"text-align: right;\">\n",
              "      <th></th>\n",
              "      <th>weight_scaled</th>\n",
              "      <th>prediction</th>\n",
              "    </tr>\n",
              "  </thead>\n",
              "  <tbody>\n",
              "    <tr>\n",
              "      <th>count</th>\n",
              "      <td>16117.000000</td>\n",
              "      <td>16117.000000</td>\n",
              "    </tr>\n",
              "    <tr>\n",
              "      <th>mean</th>\n",
              "      <td>0.007844</td>\n",
              "      <td>0.043739</td>\n",
              "    </tr>\n",
              "    <tr>\n",
              "      <th>std</th>\n",
              "      <td>0.825243</td>\n",
              "      <td>0.102941</td>\n",
              "    </tr>\n",
              "    <tr>\n",
              "      <th>min</th>\n",
              "      <td>-0.198395</td>\n",
              "      <td>-0.492079</td>\n",
              "    </tr>\n",
              "    <tr>\n",
              "      <th>25%</th>\n",
              "      <td>-0.168006</td>\n",
              "      <td>0.000000</td>\n",
              "    </tr>\n",
              "    <tr>\n",
              "      <th>50%</th>\n",
              "      <td>-0.125354</td>\n",
              "      <td>0.002585</td>\n",
              "    </tr>\n",
              "    <tr>\n",
              "      <th>75%</th>\n",
              "      <td>-0.026189</td>\n",
              "      <td>0.036015</td>\n",
              "    </tr>\n",
              "    <tr>\n",
              "      <th>max</th>\n",
              "      <td>45.784060</td>\n",
              "      <td>1.185532</td>\n",
              "    </tr>\n",
              "  </tbody>\n",
              "</table>\n",
              "</div>"
            ],
            "text/plain": [
              "       weight_scaled    prediction\n",
              "count   16117.000000  16117.000000\n",
              "mean        0.007844      0.043739\n",
              "std         0.825243      0.102941\n",
              "min        -0.198395     -0.492079\n",
              "25%        -0.168006      0.000000\n",
              "50%        -0.125354      0.002585\n",
              "75%        -0.026189      0.036015\n",
              "max        45.784060      1.185532"
            ]
          },
          "metadata": {
            "tags": []
          },
          "execution_count": 224
        }
      ]
    },
    {
      "cell_type": "code",
      "metadata": {
        "id": "JnDoLkMMt5PM"
      },
      "source": [
        "artistData = spark.read.csv('/content/Building-Machine-Learning-Models-in-Spark-2/datasets/lastfm/artists.dat',header=True,sep='\\t',inferSchema=True)"
      ],
      "execution_count": null,
      "outputs": []
    },
    {
      "cell_type": "code",
      "metadata": {
        "colab": {
          "base_uri": "https://localhost:8080/"
        },
        "id": "wgNtsBLCuBjA",
        "outputId": "4189c98a-635e-4ae8-dff6-75112de82e7d"
      },
      "source": [
        "artistData.show()"
      ],
      "execution_count": null,
      "outputs": [
        {
          "output_type": "stream",
          "text": [
            "+---+--------------------+--------------------+--------------------+\n",
            "| id|                name|                 url|          pictureURL|\n",
            "+---+--------------------+--------------------+--------------------+\n",
            "|  1|        MALICE MIZER|http://www.last.f...|http://userserve-...|\n",
            "|  2|     Diary of Dreams|http://www.last.f...|http://userserve-...|\n",
            "|  3|   Carpathian Forest|http://www.last.f...|http://userserve-...|\n",
            "|  4|        Moi dix Mois|http://www.last.f...|http://userserve-...|\n",
            "|  5|         Bella Morte|http://www.last.f...|http://userserve-...|\n",
            "|  6|           Moonspell|http://www.last.f...|http://userserve-...|\n",
            "|  7|      Marilyn Manson|http://www.last.f...|http://userserve-...|\n",
            "|  8|         DIR EN GREY|http://www.last.f...|http://userserve-...|\n",
            "|  9|         Combichrist|http://www.last.f...|http://userserve-...|\n",
            "| 10|             Grendel|http://www.last.f...|http://userserve-...|\n",
            "| 11|            Agonoize|http://www.last.f...|http://userserve-...|\n",
            "| 12|            Behemoth|http://www.last.f...|http://userserve-...|\n",
            "| 13|              Hocico|http://www.last.f...|http://userserve-...|\n",
            "| 15|        Dimmu Borgir|http://www.last.f...|http://userserve-...|\n",
            "| 16|London After Midn...|http://www.last.f...|http://userserve-...|\n",
            "| 17|        Psyclon Nine|http://www.last.f...|http://userserve-...|\n",
            "| 18|     The Crüxshadows|http://www.last.f...|http://userserve-...|\n",
            "| 19|          :wumpscut:|http://www.last.f...|http://userserve-...|\n",
            "| 20|        Limbonic Art|http://www.last.f...|http://userserve-...|\n",
            "| 21| Artista sconosciuto|http://www.last.f...|http://userserve-...|\n",
            "+---+--------------------+--------------------+--------------------+\n",
            "only showing top 20 rows\n",
            "\n"
          ],
          "name": "stdout"
        }
      ]
    },
    {
      "cell_type": "code",
      "metadata": {
        "id": "CJ_yPr6guEM2"
      },
      "source": [
        "from pyspark.sql.types import IntegerType\n",
        "def getRecommendationsForUser(userId,numRecs):\n",
        "  usersDF = spark.createDataFrame([userId],IntegerType()).toDF('userId')\n",
        "  userRecs = model.recommendForUserSubset(usersDF,numRecs)\n",
        "  artistsList = userRecs.collect()[0].recommendations\n",
        "  artistDF = spark.createDataFrame(artistsList)\n",
        "  recommmendedArtistis = artistData.join(artistDF, artistData.id == artistDF.artistID).orderBy('rating',ascending=False).select('name','url','rating')\n",
        "  return recommmendedArtistis"
      ],
      "execution_count": null,
      "outputs": []
    },
    {
      "cell_type": "code",
      "metadata": {
        "colab": {
          "base_uri": "https://localhost:8080/"
        },
        "id": "feVm214Fv-_J",
        "outputId": "af1702c7-4d05-455d-c4cf-0b15867a7e87"
      },
      "source": [
        "getRecommendationsForUser(4,2).show()"
      ],
      "execution_count": null,
      "outputs": [
        {
          "output_type": "stream",
          "text": [
            "+------------+--------------------+-------------------+\n",
            "|        name|                 url|             rating|\n",
            "+------------+--------------------+-------------------+\n",
            "|Depeche Mode|http://www.last.f...|0.38291558623313904|\n",
            "| The Beatles|http://www.last.f...|0.23952211439609528|\n",
            "+------------+--------------------+-------------------+\n",
            "\n"
          ],
          "name": "stdout"
        }
      ]
    },
    {
      "cell_type": "code",
      "metadata": {
        "id": "vUzGsIkowY9I"
      },
      "source": [
        "userArtistRaw = userartist_df.filter(userartist_df.userID == 4)"
      ],
      "execution_count": null,
      "outputs": []
    },
    {
      "cell_type": "code",
      "metadata": {
        "id": "cep-4wAQxo0l"
      },
      "source": [
        "userArtistInfo = artistData.join(userArtistRaw,artistData.id==userArtistRaw.artistID).orderBy('weight',ascending=False).select('name','weight')"
      ],
      "execution_count": null,
      "outputs": []
    },
    {
      "cell_type": "code",
      "metadata": {
        "colab": {
          "base_uri": "https://localhost:8080/"
        },
        "id": "zjLMMYUzwt4G",
        "outputId": "17bbd53c-d5b6-4a97-bec6-ffdfe7af2e58"
      },
      "source": [
        "userArtistInfo.show()"
      ],
      "execution_count": null,
      "outputs": [
        {
          "output_type": "stream",
          "text": [
            "+-------------------+------+\n",
            "|               name|weight|\n",
            "+-------------------+------+\n",
            "|       Depeche Mode|  4983|\n",
            "|        Deep Forest|  1807|\n",
            "|     Porcupine Tree|  1208|\n",
            "|          De/Vision|   903|\n",
            "|          Radiohead|   826|\n",
            "|    Robbie Williams|   777|\n",
            "|               VAST|   743|\n",
            "|    Michael Jackson|   732|\n",
            "|          עברי לידר|   729|\n",
            "|           The Cure|   724|\n",
            "|           אביב גפן|   712|\n",
            "|                Air|   686|\n",
            "|   Enrique Iglesias|   632|\n",
            "|God Is an Astronaut|   524|\n",
            "|         Pink Floyd|   465|\n",
            "|          יוני בלוך|   455|\n",
            "|        Planet Funk|   446|\n",
            "|    The Cranberries|   445|\n",
            "|           Röyksopp|   420|\n",
            "|    Scissor Sisters|   407|\n",
            "+-------------------+------+\n",
            "only showing top 20 rows\n",
            "\n"
          ],
          "name": "stdout"
        }
      ]
    }
  ]
}